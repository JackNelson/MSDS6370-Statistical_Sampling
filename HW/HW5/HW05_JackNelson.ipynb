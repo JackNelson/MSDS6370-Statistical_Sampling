{
 "cells": [
  {
   "cell_type": "markdown",
   "metadata": {},
   "source": [
    "<h2><center> MSDS 6370: Statistical Sampling </center></h2>\n",
    "<h3><center> Homework 5 <br> Jack Nelson </center></h3> "
   ]
  },
  {
   "cell_type": "markdown",
   "metadata": {},
   "source": [
    "### Exercise 5.1  \n",
    "\n",
    "Generating Table 5.1 and Table 5.2 based on the following equations:  \n",
    "\n",
    "$$ \\pi_h = \\frac{n_h}{N} $$\n",
    "_where $\\pi_h$ = probability at strata h and $n_h$ = number of population units at strata h_  \n",
    "\n",
    "and...  \n",
    "$$ n_h^* = (\\frac{\\pi_h\\sigma_h}{\\sum \\pi_h\\sigma_h})n $$  \n",
    "_where $n_h^*$ = sample size at strata h based on $sigma_h$ and $sigma_h$ = standard deviation at strata h_"
   ]
  },
  {
   "cell_type": "code",
   "execution_count": 1,
   "metadata": {},
   "outputs": [
    {
     "name": "stdout",
     "output_type": "stream",
     "text": [
      "   Average Employees  Average Payroll  No. of Hospitals      Size  \\\n",
      "0                 54              266              1614  Under 50   \n",
      "1                123              384              1566     50-99   \n",
      "2                262             1484              1419   100-199   \n",
      "3                538             3110               683   200-299   \n",
      "4                912             5758               679   300-499   \n",
      "5               1548            10964               609      500+   \n",
      "\n",
      "   Stdev for Employees  Stdev for Payroll      pi_h  n_prop  n_payroll  \\\n",
      "0                   25                183  0.245662   246.0       34.0   \n",
      "1                   51                316  0.238356   238.0       57.0   \n",
      "2                   95                641  0.215982   216.0      105.0   \n",
      "3                  152               1347  0.103957   104.0      106.0   \n",
      "4                  384               2463  0.103349   103.0      192.0   \n",
      "5                  826               7227  0.092694    93.0      506.0   \n",
      "\n",
      "   n_employee  \n",
      "0        36.0  \n",
      "1        71.0  \n",
      "2       120.0  \n",
      "3        92.0  \n",
      "4       232.0  \n",
      "5       448.0  \n"
     ]
    }
   ],
   "source": [
    "import pandas as pd\n",
    "\n",
    "# given values from book in Tables 5.1 and 5.2 on page 119\n",
    "bed_size = ['Under 50', '50-99', '100-199', '200-299', '300-499', '500+']\n",
    "hospitals = [1614, 1566, 1419, 683, 679, 609]\n",
    "payroll_avg = [266, 384, 1484, 3110, 5758, 10964]\n",
    "payroll_std = [183, 316, 641, 1347, 2463, 7227]\n",
    "employees_avg = [54, 123, 262, 538, 912, 1548]\n",
    "employees_std = [25, 51, 95, 152, 384, 826]\n",
    "\n",
    "# make into dataframe\n",
    "d = {'Size': bed_size, 'No. of Hospitals': hospitals, 'Average Payroll': payroll_avg, \n",
    "     'Stdev for Payroll': payroll_std, 'Average Employees': employees_avg, 'Stdev for Employees': employees_std}\n",
    "hospital_table = pd.DataFrame(data=d)\n",
    "\n",
    "# compute probabilities and sample sizes based on various allocations using equations listed above\n",
    "hospital_table['pi_h'] = hospital_table['No. of Hospitals'] / hospital_table['No. of Hospitals'].sum()\n",
    "hospital_table['n_prop'] = (1000 * hospital_table['pi_h']).round()\n",
    "hospital_table['n_payroll'] = (1000 * ((hospital_table['pi_h']*hospital_table['Stdev for Payroll']) / \n",
    "                                      (hospital_table['pi_h']*hospital_table['Stdev for Payroll']).sum())\n",
    "                              ).round()\n",
    "hospital_table['n_employee'] = (1000 * ((hospital_table['pi_h']*hospital_table['Stdev for Employees']) / \n",
    "                                        (hospital_table['pi_h']*hospital_table['Stdev for Employees']).sum())\n",
    "                               ).round()\n",
    "\n",
    "#print results\n",
    "print hospital_table"
   ]
  },
  {
   "cell_type": "code",
   "execution_count": 2,
   "metadata": {
    "scrolled": false
   },
   "outputs": [
    {
     "name": "stdout",
     "output_type": "stream",
     "text": [
      "   Average Employees  Average Payroll  No. of Hospitals      Size  \\\n",
      "0                 54              266              2614  Under 50   \n",
      "1                123              384              1566     50-99   \n",
      "2                262             1484              1419   100-199   \n",
      "3                538             3110               683   200-299   \n",
      "4                912             5758               679   300-499   \n",
      "5               1548            10964               609      500+   \n",
      "\n",
      "   Stdev for Employees  Stdev for Payroll      pi_h  n_prop  n_payroll  \\\n",
      "0                   25                183  0.345310   345.0       54.0   \n",
      "1                   51                316  0.206869   207.0       56.0   \n",
      "2                   95                641  0.187450   188.0      102.0   \n",
      "3                  152               1347  0.090225    90.0      104.0   \n",
      "4                  384               2463  0.089696    90.0      188.0   \n",
      "5                  826               7227  0.080449    80.0      496.0   \n",
      "\n",
      "   n_employee  \n",
      "0        57.0  \n",
      "1        70.0  \n",
      "2       117.0  \n",
      "3        90.0  \n",
      "4       227.0  \n",
      "5       438.0  \n"
     ]
    },
    {
     "name": "stderr",
     "output_type": "stream",
     "text": [
      "/Users/JackNelson/anaconda2/lib/python2.7/site-packages/ipykernel_launcher.py:19: SettingWithCopyWarning: \n",
      "A value is trying to be set on a copy of a slice from a DataFrame\n",
      "\n",
      "See the caveats in the documentation: http://pandas.pydata.org/pandas-docs/stable/indexing.html#indexing-view-versus-copy\n"
     ]
    }
   ],
   "source": [
    "# new hospital distribution given\n",
    "hospitals_new = [2614, 1566, 1419, 683, 679, 609]\n",
    "\n",
    "# make new dataframe\n",
    "d_new = {'Size': bed_size, 'No. of Hospitals': hospitals_new, 'Average Payroll': payroll_avg, \n",
    "     'Stdev for Payroll': payroll_std, 'Average Employees': employees_avg, 'Stdev for Employees': employees_std}\n",
    "hospital_table2 = pd.DataFrame(data=d_new)\n",
    "\n",
    "# compute new probabilities and sample sizes based on various allocations using equations listed above\n",
    "hospital_table2['pi_h'] = hospital_table2['No. of Hospitals'] / hospital_table2['No. of Hospitals'].sum()\n",
    "hospital_table2['n_prop'] = (1000 * hospital_table2['pi_h']).round()\n",
    "hospital_table2['n_payroll'] = (1000 * ((hospital_table2['pi_h']*hospital_table2['Stdev for Payroll']) / \n",
    "                                      (hospital_table2['pi_h']*hospital_table2['Stdev for Payroll']).sum())\n",
    "                               ).round()\n",
    "hospital_table2['n_employee'] = (1000 * ((hospital_table2['pi_h']*hospital_table2['Stdev for Employees']) / \n",
    "                                        (hospital_table2['pi_h']*hospital_table2['Stdev for Employees']).sum())\n",
    "                                ).round()\n",
    "# correction for n = 1,000 for n_prop\n",
    "hospital_table2['n_prop'][2] += 1\n",
    "\n",
    "# print results\n",
    "print hospital_table2"
   ]
  },
  {
   "cell_type": "markdown",
   "metadata": {},
   "source": [
    "### Exercise 5.2  "
   ]
  },
  {
   "cell_type": "code",
   "execution_count": 3,
   "metadata": {},
   "outputs": [
    {
     "name": "stdout",
     "output_type": "stream",
     "text": [
      "Cost for 100% Hispanic area:  35.0\n",
      "Cost for 2% Hispanic area:  525.0\n"
     ]
    }
   ],
   "source": [
    "print 'Cost for 100% Hispanic area: ', 10 / 1.0 + 25 \n",
    "print 'Cost for 2% Hispanic area: ', 10 / 0.02 + 25"
   ]
  },
  {
   "cell_type": "code",
   "execution_count": 4,
   "metadata": {},
   "outputs": [
    {
     "name": "stdout",
     "output_type": "stream",
     "text": [
      "Sampling rate is 2% area compared to 100% area:  0.258198889747\n"
     ]
    }
   ],
   "source": [
    "import numpy as np\n",
    "print 'Sampling rate is 2% area compared to 100% area: ', np.sqrt(35.0) / np.sqrt(525.0)"
   ]
  }
 ],
 "metadata": {
  "kernelspec": {
   "display_name": "Python 3",
   "language": "python",
   "name": "python3"
  },
  "language_info": {
   "codemirror_mode": {
    "name": "ipython",
    "version": 2
   },
   "file_extension": ".py",
   "mimetype": "text/x-python",
   "name": "python",
   "nbconvert_exporter": "python",
   "pygments_lexer": "ipython2",
   "version": "2.7.14"
  }
 },
 "nbformat": 4,
 "nbformat_minor": 2
}
