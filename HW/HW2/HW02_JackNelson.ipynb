{
 "cells": [
  {
   "cell_type": "markdown",
   "metadata": {},
   "source": [
    "<h2><center> MSDS 6370: Statistical Sampling </center></h2>\n",
    "<h3><center> Homework 2 <br> Jack Nelson </center></h3>"
   ]
  },
  {
   "cell_type": "markdown",
   "metadata": {},
   "source": [
    "### Exercise 1"
   ]
  },
  {
   "cell_type": "code",
   "execution_count": 1,
   "metadata": {
    "scrolled": true
   },
   "outputs": [],
   "source": [
    "import pandas as pd\n",
    "pat_encounters = pd.read_csv('patient_encounters.csv')"
   ]
  },
  {
   "cell_type": "code",
   "execution_count": 2,
   "metadata": {},
   "outputs": [
    {
     "data": {
      "text/html": [
       "<div>\n",
       "<style scoped>\n",
       "    .dataframe tbody tr th:only-of-type {\n",
       "        vertical-align: middle;\n",
       "    }\n",
       "\n",
       "    .dataframe tbody tr th {\n",
       "        vertical-align: top;\n",
       "    }\n",
       "\n",
       "    .dataframe thead th {\n",
       "        text-align: right;\n",
       "    }\n",
       "</style>\n",
       "<table border=\"1\" class=\"dataframe\">\n",
       "  <thead>\n",
       "    <tr style=\"text-align: right;\">\n",
       "      <th></th>\n",
       "      <th>DOS</th>\n",
       "      <th>patNum</th>\n",
       "      <th>amountPaid</th>\n",
       "      <th>amountAllowed</th>\n",
       "      <th>difference</th>\n",
       "      <th>count</th>\n",
       "      <th>weight</th>\n",
       "    </tr>\n",
       "  </thead>\n",
       "  <tbody>\n",
       "    <tr>\n",
       "      <th>1782</th>\n",
       "      <td>39665</td>\n",
       "      <td>10595</td>\n",
       "      <td>129.56</td>\n",
       "      <td>129.56</td>\n",
       "      <td>0.0</td>\n",
       "      <td>59</td>\n",
       "      <td>41.881356</td>\n",
       "    </tr>\n",
       "    <tr>\n",
       "      <th>1811</th>\n",
       "      <td>39608</td>\n",
       "      <td>10595</td>\n",
       "      <td>-92.70</td>\n",
       "      <td>-92.70</td>\n",
       "      <td>0.0</td>\n",
       "      <td>59</td>\n",
       "      <td>41.881356</td>\n",
       "    </tr>\n",
       "    <tr>\n",
       "      <th>259</th>\n",
       "      <td>39683</td>\n",
       "      <td>4</td>\n",
       "      <td>223.59</td>\n",
       "      <td>223.59</td>\n",
       "      <td>0.0</td>\n",
       "      <td>317</td>\n",
       "      <td>7.794953</td>\n",
       "    </tr>\n",
       "    <tr>\n",
       "      <th>341</th>\n",
       "      <td>39717</td>\n",
       "      <td>4</td>\n",
       "      <td>65.10</td>\n",
       "      <td>0.00</td>\n",
       "      <td>65.1</td>\n",
       "      <td>317</td>\n",
       "      <td>7.794953</td>\n",
       "    </tr>\n",
       "    <tr>\n",
       "      <th>541</th>\n",
       "      <td>39679</td>\n",
       "      <td>231</td>\n",
       "      <td>37.00</td>\n",
       "      <td>37.00</td>\n",
       "      <td>0.0</td>\n",
       "      <td>2</td>\n",
       "      <td>1235.500000</td>\n",
       "    </tr>\n",
       "    <tr>\n",
       "      <th>1636</th>\n",
       "      <td>39699</td>\n",
       "      <td>10263</td>\n",
       "      <td>46.34</td>\n",
       "      <td>46.34</td>\n",
       "      <td>0.0</td>\n",
       "      <td>26</td>\n",
       "      <td>95.038462</td>\n",
       "    </tr>\n",
       "    <tr>\n",
       "      <th>1643</th>\n",
       "      <td>39734</td>\n",
       "      <td>10263</td>\n",
       "      <td>0.00</td>\n",
       "      <td>0.00</td>\n",
       "      <td>0.0</td>\n",
       "      <td>26</td>\n",
       "      <td>95.038462</td>\n",
       "    </tr>\n",
       "    <tr>\n",
       "      <th>1636</th>\n",
       "      <td>39699</td>\n",
       "      <td>10263</td>\n",
       "      <td>46.34</td>\n",
       "      <td>46.34</td>\n",
       "      <td>0.0</td>\n",
       "      <td>26</td>\n",
       "      <td>95.038462</td>\n",
       "    </tr>\n",
       "    <tr>\n",
       "      <th>903</th>\n",
       "      <td>39538</td>\n",
       "      <td>1483</td>\n",
       "      <td>10.42</td>\n",
       "      <td>10.42</td>\n",
       "      <td>0.0</td>\n",
       "      <td>53</td>\n",
       "      <td>46.622642</td>\n",
       "    </tr>\n",
       "    <tr>\n",
       "      <th>1473</th>\n",
       "      <td>39598</td>\n",
       "      <td>10258</td>\n",
       "      <td>0.00</td>\n",
       "      <td>0.00</td>\n",
       "      <td>0.0</td>\n",
       "      <td>27</td>\n",
       "      <td>91.518519</td>\n",
       "    </tr>\n",
       "    <tr>\n",
       "      <th>1546</th>\n",
       "      <td>39462</td>\n",
       "      <td>10260</td>\n",
       "      <td>12.59</td>\n",
       "      <td>12.59</td>\n",
       "      <td>0.0</td>\n",
       "      <td>54</td>\n",
       "      <td>45.759259</td>\n",
       "    </tr>\n",
       "    <tr>\n",
       "      <th>416</th>\n",
       "      <td>39748</td>\n",
       "      <td>14</td>\n",
       "      <td>30.16</td>\n",
       "      <td>30.16</td>\n",
       "      <td>0.0</td>\n",
       "      <td>13</td>\n",
       "      <td>190.076923</td>\n",
       "    </tr>\n",
       "    <tr>\n",
       "      <th>2127</th>\n",
       "      <td>39630</td>\n",
       "      <td>11422</td>\n",
       "      <td>26.37</td>\n",
       "      <td>26.37</td>\n",
       "      <td>0.0</td>\n",
       "      <td>238</td>\n",
       "      <td>10.382353</td>\n",
       "    </tr>\n",
       "    <tr>\n",
       "      <th>2268</th>\n",
       "      <td>39468</td>\n",
       "      <td>11422</td>\n",
       "      <td>248.06</td>\n",
       "      <td>248.06</td>\n",
       "      <td>0.0</td>\n",
       "      <td>238</td>\n",
       "      <td>10.382353</td>\n",
       "    </tr>\n",
       "    <tr>\n",
       "      <th>531</th>\n",
       "      <td>39457</td>\n",
       "      <td>20</td>\n",
       "      <td>0.00</td>\n",
       "      <td>0.00</td>\n",
       "      <td>0.0</td>\n",
       "      <td>27</td>\n",
       "      <td>91.518519</td>\n",
       "    </tr>\n",
       "  </tbody>\n",
       "</table>\n",
       "</div>"
      ],
      "text/plain": [
       "        DOS  patNum  amountPaid  amountAllowed  difference  count       weight\n",
       "1782  39665   10595      129.56         129.56         0.0     59    41.881356\n",
       "1811  39608   10595      -92.70         -92.70         0.0     59    41.881356\n",
       "259   39683       4      223.59         223.59         0.0    317     7.794953\n",
       "341   39717       4       65.10           0.00        65.1    317     7.794953\n",
       "541   39679     231       37.00          37.00         0.0      2  1235.500000\n",
       "1636  39699   10263       46.34          46.34         0.0     26    95.038462\n",
       "1643  39734   10263        0.00           0.00         0.0     26    95.038462\n",
       "1636  39699   10263       46.34          46.34         0.0     26    95.038462\n",
       "903   39538    1483       10.42          10.42         0.0     53    46.622642\n",
       "1473  39598   10258        0.00           0.00         0.0     27    91.518519\n",
       "1546  39462   10260       12.59          12.59         0.0     54    45.759259\n",
       "416   39748      14       30.16          30.16         0.0     13   190.076923\n",
       "2127  39630   11422       26.37          26.37         0.0    238    10.382353\n",
       "2268  39468   11422      248.06         248.06         0.0    238    10.382353\n",
       "531   39457      20        0.00           0.00         0.0     27    91.518519"
      ]
     },
     "execution_count": 2,
     "metadata": {},
     "output_type": "execute_result"
    }
   ],
   "source": [
    "# count of encounters by each patNum\n",
    "pat_visits = pat_encounters[['DOS','patNum']].groupby('patNum').count().rename(columns={'DOS':'count'})\n",
    "\n",
    "# random sample of 15 encounters with replacement, merged with the count of encouters by patNum\n",
    "pps_sample = pat_encounters.sample(n=15, replace=True).merge(pat_visits, left_on='patNum', right_index=True)\n",
    "\n",
    "# calculating weights\n",
    "pps_sample['weight'] = pat_encounters.DOS.count() / pps_sample['count']\n",
    "\n",
    "pps_sample"
   ]
  },
  {
   "cell_type": "code",
   "execution_count": 3,
   "metadata": {},
   "outputs": [
    {
     "name": "stdout",
     "output_type": "stream",
     "text": [
      "Estimate of total amount paid: 483.990223667\n",
      "Estimate of total amount allowed: 480.376289544\n",
      "Estimate of total difference: 3.61393412226\n"
     ]
    }
   ],
   "source": [
    "print 'Estimate of total amount paid:', ((pps_sample.amountPaid * pps_sample.weight).sum() / \n",
    "                                         pps_sample.weight.sum() * pps_sample.DOS.count())\n",
    "print 'Estimate of total amount allowed:', ((pps_sample.amountAllowed * pps_sample.weight).sum() / \n",
    "                                            pps_sample.weight.sum() * pps_sample.DOS.count())\n",
    "print 'Estimate of total difference:', ((pps_sample.difference * pps_sample.weight).sum() / \n",
    "                                        pps_sample.weight.sum() * pps_sample.DOS.count())"
   ]
  },
  {
   "cell_type": "code",
   "execution_count": 4,
   "metadata": {},
   "outputs": [
    {
     "data": {
      "text/plain": [
       "3.6139341222626795"
      ]
     },
     "execution_count": 4,
     "metadata": {},
     "output_type": "execute_result"
    }
   ],
   "source": [
    "(pps_sample.difference * pps_sample.weight).sum() / pps_sample.weight.sum() * pps_sample.weight.count()"
   ]
  },
  {
   "cell_type": "markdown",
   "metadata": {},
   "source": [
    "### Excerise 2  \n",
    "<i>No code required. See Word Doc/PDF</i>"
   ]
  }
 ],
 "metadata": {
  "kernelspec": {
   "display_name": "Python 3",
   "language": "python",
   "name": "python3"
  },
  "language_info": {
   "codemirror_mode": {
    "name": "ipython",
    "version": 2
   },
   "file_extension": ".py",
   "mimetype": "text/x-python",
   "name": "python",
   "nbconvert_exporter": "python",
   "pygments_lexer": "ipython2",
   "version": "2.7.14"
  }
 },
 "nbformat": 4,
 "nbformat_minor": 2
}
