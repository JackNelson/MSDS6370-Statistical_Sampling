{
 "cells": [
  {
   "cell_type": "markdown",
   "metadata": {},
   "source": [
    "<h2><center> MSDS 6370: Statistical Sampling </center></h2>\n",
    "<h3><center> Homework 2 <br> Jack Nelson </center></h3>"
   ]
  },
  {
   "cell_type": "markdown",
   "metadata": {},
   "source": [
    "### Exercise 1"
   ]
  },
  {
   "cell_type": "code",
   "execution_count": 1,
   "metadata": {
    "scrolled": true
   },
   "outputs": [],
   "source": [
    "import pandas as pd\n",
    "pat_encounters = pd.read_csv('patient_encounters.csv')"
   ]
  },
  {
   "cell_type": "code",
   "execution_count": 2,
   "metadata": {},
   "outputs": [
    {
     "data": {
      "text/html": [
       "<div>\n",
       "<style scoped>\n",
       "    .dataframe tbody tr th:only-of-type {\n",
       "        vertical-align: middle;\n",
       "    }\n",
       "\n",
       "    .dataframe tbody tr th {\n",
       "        vertical-align: top;\n",
       "    }\n",
       "\n",
       "    .dataframe thead th {\n",
       "        text-align: right;\n",
       "    }\n",
       "</style>\n",
       "<table border=\"1\" class=\"dataframe\">\n",
       "  <thead>\n",
       "    <tr style=\"text-align: right;\">\n",
       "      <th></th>\n",
       "      <th>DOS</th>\n",
       "      <th>patNum</th>\n",
       "      <th>amountPaid</th>\n",
       "      <th>amountAllowed</th>\n",
       "      <th>difference</th>\n",
       "      <th>count</th>\n",
       "      <th>weight</th>\n",
       "    </tr>\n",
       "  </thead>\n",
       "  <tbody>\n",
       "    <tr>\n",
       "      <th>1200</th>\n",
       "      <td>39533</td>\n",
       "      <td>3143</td>\n",
       "      <td>39.36</td>\n",
       "      <td>39.36</td>\n",
       "      <td>0.00</td>\n",
       "      <td>49</td>\n",
       "      <td>50.428571</td>\n",
       "    </tr>\n",
       "    <tr>\n",
       "      <th>1162</th>\n",
       "      <td>39493</td>\n",
       "      <td>3090</td>\n",
       "      <td>9.92</td>\n",
       "      <td>39.73</td>\n",
       "      <td>-29.81</td>\n",
       "      <td>23</td>\n",
       "      <td>107.434783</td>\n",
       "    </tr>\n",
       "    <tr>\n",
       "      <th>2003</th>\n",
       "      <td>39539</td>\n",
       "      <td>11420</td>\n",
       "      <td>0.00</td>\n",
       "      <td>0.00</td>\n",
       "      <td>0.00</td>\n",
       "      <td>39</td>\n",
       "      <td>63.358974</td>\n",
       "    </tr>\n",
       "    <tr>\n",
       "      <th>548</th>\n",
       "      <td>39695</td>\n",
       "      <td>232</td>\n",
       "      <td>0.00</td>\n",
       "      <td>0.00</td>\n",
       "      <td>0.00</td>\n",
       "      <td>51</td>\n",
       "      <td>48.450980</td>\n",
       "    </tr>\n",
       "    <tr>\n",
       "      <th>945</th>\n",
       "      <td>39604</td>\n",
       "      <td>3085</td>\n",
       "      <td>2866.50</td>\n",
       "      <td>5962.32</td>\n",
       "      <td>-3095.82</td>\n",
       "      <td>69</td>\n",
       "      <td>35.811594</td>\n",
       "    </tr>\n",
       "    <tr>\n",
       "      <th>934</th>\n",
       "      <td>39458</td>\n",
       "      <td>3085</td>\n",
       "      <td>0.00</td>\n",
       "      <td>0.00</td>\n",
       "      <td>0.00</td>\n",
       "      <td>69</td>\n",
       "      <td>35.811594</td>\n",
       "    </tr>\n",
       "    <tr>\n",
       "      <th>692</th>\n",
       "      <td>39581</td>\n",
       "      <td>236</td>\n",
       "      <td>144.35</td>\n",
       "      <td>150.00</td>\n",
       "      <td>-5.65</td>\n",
       "      <td>75</td>\n",
       "      <td>32.946667</td>\n",
       "    </tr>\n",
       "    <tr>\n",
       "      <th>1097</th>\n",
       "      <td>39657</td>\n",
       "      <td>3088</td>\n",
       "      <td>0.00</td>\n",
       "      <td>0.00</td>\n",
       "      <td>0.00</td>\n",
       "      <td>73</td>\n",
       "      <td>33.849315</td>\n",
       "    </tr>\n",
       "    <tr>\n",
       "      <th>343</th>\n",
       "      <td>39625</td>\n",
       "      <td>4</td>\n",
       "      <td>0.81</td>\n",
       "      <td>0.00</td>\n",
       "      <td>0.81</td>\n",
       "      <td>317</td>\n",
       "      <td>7.794953</td>\n",
       "    </tr>\n",
       "    <tr>\n",
       "      <th>78</th>\n",
       "      <td>39654</td>\n",
       "      <td>4</td>\n",
       "      <td>0.00</td>\n",
       "      <td>0.00</td>\n",
       "      <td>0.00</td>\n",
       "      <td>317</td>\n",
       "      <td>7.794953</td>\n",
       "    </tr>\n",
       "    <tr>\n",
       "      <th>108</th>\n",
       "      <td>39715</td>\n",
       "      <td>4</td>\n",
       "      <td>21.44</td>\n",
       "      <td>0.00</td>\n",
       "      <td>21.44</td>\n",
       "      <td>317</td>\n",
       "      <td>7.794953</td>\n",
       "    </tr>\n",
       "    <tr>\n",
       "      <th>818</th>\n",
       "      <td>39517</td>\n",
       "      <td>1479</td>\n",
       "      <td>79.34</td>\n",
       "      <td>79.34</td>\n",
       "      <td>0.00</td>\n",
       "      <td>38</td>\n",
       "      <td>65.026316</td>\n",
       "    </tr>\n",
       "    <tr>\n",
       "      <th>472</th>\n",
       "      <td>39767</td>\n",
       "      <td>18</td>\n",
       "      <td>26.95</td>\n",
       "      <td>26.95</td>\n",
       "      <td>0.00</td>\n",
       "      <td>53</td>\n",
       "      <td>46.622642</td>\n",
       "    </tr>\n",
       "    <tr>\n",
       "      <th>479</th>\n",
       "      <td>39699</td>\n",
       "      <td>18</td>\n",
       "      <td>0.00</td>\n",
       "      <td>0.00</td>\n",
       "      <td>0.00</td>\n",
       "      <td>53</td>\n",
       "      <td>46.622642</td>\n",
       "    </tr>\n",
       "    <tr>\n",
       "      <th>744</th>\n",
       "      <td>39734</td>\n",
       "      <td>1478</td>\n",
       "      <td>0.00</td>\n",
       "      <td>0.00</td>\n",
       "      <td>0.00</td>\n",
       "      <td>61</td>\n",
       "      <td>40.508197</td>\n",
       "    </tr>\n",
       "  </tbody>\n",
       "</table>\n",
       "</div>"
      ],
      "text/plain": [
       "        DOS  patNum  amountPaid  amountAllowed  difference  count      weight\n",
       "1200  39533    3143       39.36          39.36        0.00     49   50.428571\n",
       "1162  39493    3090        9.92          39.73      -29.81     23  107.434783\n",
       "2003  39539   11420        0.00           0.00        0.00     39   63.358974\n",
       "548   39695     232        0.00           0.00        0.00     51   48.450980\n",
       "945   39604    3085     2866.50        5962.32    -3095.82     69   35.811594\n",
       "934   39458    3085        0.00           0.00        0.00     69   35.811594\n",
       "692   39581     236      144.35         150.00       -5.65     75   32.946667\n",
       "1097  39657    3088        0.00           0.00        0.00     73   33.849315\n",
       "343   39625       4        0.81           0.00        0.81    317    7.794953\n",
       "78    39654       4        0.00           0.00        0.00    317    7.794953\n",
       "108   39715       4       21.44           0.00       21.44    317    7.794953\n",
       "818   39517    1479       79.34          79.34        0.00     38   65.026316\n",
       "472   39767      18       26.95          26.95        0.00     53   46.622642\n",
       "479   39699      18        0.00           0.00        0.00     53   46.622642\n",
       "744   39734    1478        0.00           0.00        0.00     61   40.508197"
      ]
     },
     "execution_count": 2,
     "metadata": {},
     "output_type": "execute_result"
    }
   ],
   "source": [
    "# count of encounters by each patNum\n",
    "pat_visits = pat_encounters[['DOS','patNum']].groupby('patNum').count().rename(columns={'DOS':'count'})\n",
    "\n",
    "# random sample of 15 encounters with replacement, merged with the count of encouters by patNum\n",
    "pps_sample = pat_encounters.sample(n=15, replace=True).merge(pat_visits, left_on='patNum', right_index=True)\n",
    "\n",
    "# calculating weights\n",
    "pps_sample['weight'] = pat_encounters.DOS.count() / pps_sample['count']\n",
    "\n",
    "pps_sample"
   ]
  },
  {
   "cell_type": "code",
   "execution_count": 3,
   "metadata": {},
   "outputs": [
    {
     "name": "stdout",
     "output_type": "stream",
     "text": [
      "Estimate of total amount paid: 2785.75618129\n",
      "Estimate of total amount allowed: 5500.87638035\n",
      "Estimate of total difference: -2715.12019907\n"
     ]
    }
   ],
   "source": [
    "print 'Estimate of total amount paid:', ((pps_sample.amountPaid * pps_sample.weight).sum() / \n",
    "                                         pps_sample.weight.sum() * pps_sample.DOS.count())\n",
    "print 'Estimate of total amount allowed:', ((pps_sample.amountAllowed * pps_sample.weight).sum() / \n",
    "                                            pps_sample.weight.sum() * pps_sample.DOS.count())\n",
    "print 'Estimate of total difference:', ((pps_sample.difference * pps_sample.weight).sum() / \n",
    "                                        pps_sample.weight.sum() * pps_sample.DOS.count())"
   ]
  },
  {
   "cell_type": "code",
   "execution_count": 4,
   "metadata": {},
   "outputs": [
    {
     "data": {
      "text/plain": [
       "-181.00801327101863"
      ]
     },
     "execution_count": 4,
     "metadata": {},
     "output_type": "execute_result"
    }
   ],
   "source": [
    "(pps_sample.difference * pps_sample.weight).sum() / pps_sample.weight.sum()"
   ]
  },
  {
   "cell_type": "markdown",
   "metadata": {},
   "source": [
    "### Excerise 2  \n",
    "<i>No code required. See Word Doc/PDF</i>"
   ]
  }
 ],
 "metadata": {
  "kernelspec": {
   "display_name": "Python 3",
   "language": "python",
   "name": "python3"
  },
  "language_info": {
   "codemirror_mode": {
    "name": "ipython",
    "version": 2
   },
   "file_extension": ".py",
   "mimetype": "text/x-python",
   "name": "python",
   "nbconvert_exporter": "python",
   "pygments_lexer": "ipython2",
   "version": "2.7.14"
  }
 },
 "nbformat": 4,
 "nbformat_minor": 2
}
