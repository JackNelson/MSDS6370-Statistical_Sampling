{
 "cells": [
  {
   "cell_type": "markdown",
   "metadata": {},
   "source": [
    "<h2><center> MSDS 6370: Statistical Sampling </center></h2>\n",
    "<h3><center> Homework 2 <br> Jack Nelson </center></h3>"
   ]
  },
  {
   "cell_type": "markdown",
   "metadata": {},
   "source": [
    "### Exercise 1"
   ]
  },
  {
   "cell_type": "code",
   "execution_count": 1,
   "metadata": {
    "scrolled": true
   },
   "outputs": [],
   "source": [
    "import pandas as pd\n",
    "pat_encounters = pd.read_csv('patient_encounters.csv')"
   ]
  },
  {
   "cell_type": "code",
   "execution_count": 2,
   "metadata": {
    "collapsed": true
   },
   "outputs": [
    {
     "data": {
      "text/html": [
       "<div>\n",
       "<style scoped>\n",
       "    .dataframe tbody tr th:only-of-type {\n",
       "        vertical-align: middle;\n",
       "    }\n",
       "\n",
       "    .dataframe tbody tr th {\n",
       "        vertical-align: top;\n",
       "    }\n",
       "\n",
       "    .dataframe thead th {\n",
       "        text-align: right;\n",
       "    }\n",
       "</style>\n",
       "<table border=\"1\" class=\"dataframe\">\n",
       "  <thead>\n",
       "    <tr style=\"text-align: right;\">\n",
       "      <th></th>\n",
       "      <th>DOS</th>\n",
       "      <th>patNum</th>\n",
       "      <th>amountPaid</th>\n",
       "      <th>amountAllowed</th>\n",
       "      <th>difference</th>\n",
       "      <th>count</th>\n",
       "      <th>weight</th>\n",
       "    </tr>\n",
       "  </thead>\n",
       "  <tbody>\n",
       "    <tr>\n",
       "      <th>1319</th>\n",
       "      <td>39525</td>\n",
       "      <td>3147</td>\n",
       "      <td>0.00</td>\n",
       "      <td>0.00</td>\n",
       "      <td>0.00</td>\n",
       "      <td>75</td>\n",
       "      <td>32.946667</td>\n",
       "    </tr>\n",
       "    <tr>\n",
       "      <th>442</th>\n",
       "      <td>39524</td>\n",
       "      <td>18</td>\n",
       "      <td>135.38</td>\n",
       "      <td>135.38</td>\n",
       "      <td>0.00</td>\n",
       "      <td>53</td>\n",
       "      <td>46.622642</td>\n",
       "    </tr>\n",
       "    <tr>\n",
       "      <th>1450</th>\n",
       "      <td>39702</td>\n",
       "      <td>3149</td>\n",
       "      <td>10.84</td>\n",
       "      <td>10.84</td>\n",
       "      <td>0.00</td>\n",
       "      <td>38</td>\n",
       "      <td>65.026316</td>\n",
       "    </tr>\n",
       "    <tr>\n",
       "      <th>1465</th>\n",
       "      <td>39749</td>\n",
       "      <td>3149</td>\n",
       "      <td>80.00</td>\n",
       "      <td>47.00</td>\n",
       "      <td>33.00</td>\n",
       "      <td>38</td>\n",
       "      <td>65.026316</td>\n",
       "    </tr>\n",
       "    <tr>\n",
       "      <th>117</th>\n",
       "      <td>39694</td>\n",
       "      <td>4</td>\n",
       "      <td>10.84</td>\n",
       "      <td>0.00</td>\n",
       "      <td>10.84</td>\n",
       "      <td>317</td>\n",
       "      <td>7.794953</td>\n",
       "    </tr>\n",
       "    <tr>\n",
       "      <th>317</th>\n",
       "      <td>39702</td>\n",
       "      <td>4</td>\n",
       "      <td>2.10</td>\n",
       "      <td>0.00</td>\n",
       "      <td>2.10</td>\n",
       "      <td>317</td>\n",
       "      <td>7.794953</td>\n",
       "    </tr>\n",
       "    <tr>\n",
       "      <th>2003</th>\n",
       "      <td>39539</td>\n",
       "      <td>11420</td>\n",
       "      <td>0.00</td>\n",
       "      <td>0.00</td>\n",
       "      <td>0.00</td>\n",
       "      <td>39</td>\n",
       "      <td>63.358974</td>\n",
       "    </tr>\n",
       "    <tr>\n",
       "      <th>1887</th>\n",
       "      <td>39435</td>\n",
       "      <td>10598</td>\n",
       "      <td>27.69</td>\n",
       "      <td>27.69</td>\n",
       "      <td>0.00</td>\n",
       "      <td>34</td>\n",
       "      <td>72.676471</td>\n",
       "    </tr>\n",
       "    <tr>\n",
       "      <th>1876</th>\n",
       "      <td>39710</td>\n",
       "      <td>10598</td>\n",
       "      <td>36.96</td>\n",
       "      <td>36.96</td>\n",
       "      <td>0.00</td>\n",
       "      <td>34</td>\n",
       "      <td>72.676471</td>\n",
       "    </tr>\n",
       "    <tr>\n",
       "      <th>1682</th>\n",
       "      <td>39710</td>\n",
       "      <td>10265</td>\n",
       "      <td>21.44</td>\n",
       "      <td>21.44</td>\n",
       "      <td>0.00</td>\n",
       "      <td>40</td>\n",
       "      <td>61.775000</td>\n",
       "    </tr>\n",
       "    <tr>\n",
       "      <th>1164</th>\n",
       "      <td>39493</td>\n",
       "      <td>3090</td>\n",
       "      <td>0.00</td>\n",
       "      <td>0.00</td>\n",
       "      <td>0.00</td>\n",
       "      <td>23</td>\n",
       "      <td>107.434783</td>\n",
       "    </tr>\n",
       "    <tr>\n",
       "      <th>1156</th>\n",
       "      <td>39477</td>\n",
       "      <td>3090</td>\n",
       "      <td>39.93</td>\n",
       "      <td>39.93</td>\n",
       "      <td>0.00</td>\n",
       "      <td>23</td>\n",
       "      <td>107.434783</td>\n",
       "    </tr>\n",
       "    <tr>\n",
       "      <th>2430</th>\n",
       "      <td>39573</td>\n",
       "      <td>230</td>\n",
       "      <td>20.62</td>\n",
       "      <td>21.44</td>\n",
       "      <td>-0.82</td>\n",
       "      <td>59</td>\n",
       "      <td>41.881356</td>\n",
       "    </tr>\n",
       "    <tr>\n",
       "      <th>1945</th>\n",
       "      <td>39458</td>\n",
       "      <td>10600</td>\n",
       "      <td>0.00</td>\n",
       "      <td>0.00</td>\n",
       "      <td>0.00</td>\n",
       "      <td>23</td>\n",
       "      <td>107.434783</td>\n",
       "    </tr>\n",
       "    <tr>\n",
       "      <th>2384</th>\n",
       "      <td>39489</td>\n",
       "      <td>11423</td>\n",
       "      <td>214.99</td>\n",
       "      <td>214.99</td>\n",
       "      <td>0.00</td>\n",
       "      <td>96</td>\n",
       "      <td>25.739583</td>\n",
       "    </tr>\n",
       "  </tbody>\n",
       "</table>\n",
       "</div>"
      ],
      "text/plain": [
       "        DOS  patNum  amountPaid  amountAllowed  difference  count      weight\n",
       "1319  39525    3147        0.00           0.00        0.00     75   32.946667\n",
       "442   39524      18      135.38         135.38        0.00     53   46.622642\n",
       "1450  39702    3149       10.84          10.84        0.00     38   65.026316\n",
       "1465  39749    3149       80.00          47.00       33.00     38   65.026316\n",
       "117   39694       4       10.84           0.00       10.84    317    7.794953\n",
       "317   39702       4        2.10           0.00        2.10    317    7.794953\n",
       "2003  39539   11420        0.00           0.00        0.00     39   63.358974\n",
       "1887  39435   10598       27.69          27.69        0.00     34   72.676471\n",
       "1876  39710   10598       36.96          36.96        0.00     34   72.676471\n",
       "1682  39710   10265       21.44          21.44        0.00     40   61.775000\n",
       "1164  39493    3090        0.00           0.00        0.00     23  107.434783\n",
       "1156  39477    3090       39.93          39.93        0.00     23  107.434783\n",
       "2430  39573     230       20.62          21.44       -0.82     59   41.881356\n",
       "1945  39458   10600        0.00           0.00        0.00     23  107.434783\n",
       "2384  39489   11423      214.99         214.99        0.00     96   25.739583"
      ]
     },
     "execution_count": 2,
     "metadata": {},
     "output_type": "execute_result"
    }
   ],
   "source": [
    "# count of encounters by each patNum\n",
    "pat_visits = pat_encounters[['DOS','patNum']].groupby('patNum').count().rename(columns={'DOS':'count'})\n",
    "\n",
    "# random sample of 15 encounters with replacement, merged with the count of encouters by patNum\n",
    "pps_sample = pat_encounters.sample(n=15, replace=True).merge(pat_visits, left_on='patNum', right_index=True)\n",
    "\n",
    "# calculating weights\n",
    "pps_sample['weight'] = pat_encounters.DOS.count() / pps_sample['count']\n",
    "\n",
    "pps_sample"
   ]
  },
  {
   "cell_type": "code",
   "execution_count": 10,
   "metadata": {},
   "outputs": [
    {
     "name": "stdout",
     "output_type": "stream",
     "text": [
      "Estimate of total amount paid: 491.684441644\n",
      "Estimate of total amount allowed: 454.212688209\n",
      "Estimate of total difference: 37.4717534351\n"
     ]
    }
   ],
   "source": [
    "print 'Estimate of total amount paid:', ((pps_sample.amountPaid * pps_sample.weight).sum() / \n",
    "                                         pps_sample.weight.sum() * pps_sample.DOS.count())\n",
    "print 'Estimate of total amount allowed:', ((pps_sample.amountAllowed * pps_sample.weight).sum() / \n",
    "                                            pps_sample.weight.sum() * pps_sample.DOS.count())\n",
    "print 'Estimate of total difference:', ((pps_sample.difference * pps_sample.weight).sum() / \n",
    "                                        pps_sample.weight.sum() * pps_sample.DOS.count())"
   ]
  },
  {
   "cell_type": "code",
   "execution_count": 12,
   "metadata": {},
   "outputs": [
    {
     "data": {
      "text/plain": [
       "2.4981168956725011"
      ]
     },
     "execution_count": 12,
     "metadata": {},
     "output_type": "execute_result"
    }
   ],
   "source": [
    "(pps_sample.difference * pps_sample.weight).sum() / pps_sample.weight.sum()"
   ]
  },
  {
   "cell_type": "markdown",
   "metadata": {},
   "source": [
    "### Excerise 2  \n",
    "<i>No code required. See Word Doc/PDF</i>"
   ]
  }
 ],
 "metadata": {
  "kernelspec": {
   "display_name": "Python 3",
   "language": "python",
   "name": "python3"
  },
  "language_info": {
   "codemirror_mode": {
    "name": "ipython",
    "version": 2
   },
   "file_extension": ".py",
   "mimetype": "text/x-python",
   "name": "python",
   "nbconvert_exporter": "python",
   "pygments_lexer": "ipython2",
   "version": "2.7.14"
  }
 },
 "nbformat": 4,
 "nbformat_minor": 2
}
