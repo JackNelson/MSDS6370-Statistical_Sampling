{
 "cells": [
  {
   "cell_type": "markdown",
   "metadata": {},
   "source": [
    "<h2><center> MSDS 6370: Statistical Sampling </center></h2>\n",
    "<h3><center> Homework 3 <br> Jack Nelson </center></h3>"
   ]
  },
  {
   "cell_type": "markdown",
   "metadata": {},
   "source": [
    "### Exercise 1"
   ]
  },
  {
   "cell_type": "code",
   "execution_count": 1,
   "metadata": {},
   "outputs": [],
   "source": [
    "import pandas as pd\n",
    "pat_encounters = pd.read_csv('patient_encounters.csv')"
   ]
  },
  {
   "cell_type": "code",
   "execution_count": 2,
   "metadata": {},
   "outputs": [
    {
     "data": {
      "text/html": [
       "<div>\n",
       "<style scoped>\n",
       "    .dataframe tbody tr th:only-of-type {\n",
       "        vertical-align: middle;\n",
       "    }\n",
       "\n",
       "    .dataframe tbody tr th {\n",
       "        vertical-align: top;\n",
       "    }\n",
       "\n",
       "    .dataframe thead th {\n",
       "        text-align: right;\n",
       "    }\n",
       "</style>\n",
       "<table border=\"1\" class=\"dataframe\">\n",
       "  <thead>\n",
       "    <tr style=\"text-align: right;\">\n",
       "      <th></th>\n",
       "      <th>DOS</th>\n",
       "      <th>patNum</th>\n",
       "      <th>amountPaid</th>\n",
       "      <th>amountAllowed</th>\n",
       "      <th>difference</th>\n",
       "      <th>count</th>\n",
       "      <th>weight</th>\n",
       "    </tr>\n",
       "  </thead>\n",
       "  <tbody>\n",
       "    <tr>\n",
       "      <th>1777</th>\n",
       "      <td>8/5/08</td>\n",
       "      <td>10595</td>\n",
       "      <td>48.16</td>\n",
       "      <td>48.16</td>\n",
       "      <td>0.00</td>\n",
       "      <td>59</td>\n",
       "      <td>41.881356</td>\n",
       "    </tr>\n",
       "    <tr>\n",
       "      <th>2415</th>\n",
       "      <td>3/31/08</td>\n",
       "      <td>230</td>\n",
       "      <td>0.00</td>\n",
       "      <td>0.00</td>\n",
       "      <td>0.00</td>\n",
       "      <td>59</td>\n",
       "      <td>41.881356</td>\n",
       "    </tr>\n",
       "    <tr>\n",
       "      <th>2450</th>\n",
       "      <td>3/15/08</td>\n",
       "      <td>230</td>\n",
       "      <td>192.94</td>\n",
       "      <td>192.94</td>\n",
       "      <td>0.00</td>\n",
       "      <td>59</td>\n",
       "      <td>41.881356</td>\n",
       "    </tr>\n",
       "    <tr>\n",
       "      <th>614</th>\n",
       "      <td>7/31/08</td>\n",
       "      <td>234</td>\n",
       "      <td>132.60</td>\n",
       "      <td>132.60</td>\n",
       "      <td>0.00</td>\n",
       "      <td>19</td>\n",
       "      <td>130.052632</td>\n",
       "    </tr>\n",
       "    <tr>\n",
       "      <th>2114</th>\n",
       "      <td>3/4/08</td>\n",
       "      <td>11422</td>\n",
       "      <td>25.36</td>\n",
       "      <td>25.36</td>\n",
       "      <td>0.00</td>\n",
       "      <td>238</td>\n",
       "      <td>10.382353</td>\n",
       "    </tr>\n",
       "    <tr>\n",
       "      <th>2123</th>\n",
       "      <td>5/27/08</td>\n",
       "      <td>11422</td>\n",
       "      <td>25.36</td>\n",
       "      <td>26.37</td>\n",
       "      <td>-1.01</td>\n",
       "      <td>238</td>\n",
       "      <td>10.382353</td>\n",
       "    </tr>\n",
       "    <tr>\n",
       "      <th>2244</th>\n",
       "      <td>7/15/08</td>\n",
       "      <td>11422</td>\n",
       "      <td>0.00</td>\n",
       "      <td>160.00</td>\n",
       "      <td>-160.00</td>\n",
       "      <td>238</td>\n",
       "      <td>10.382353</td>\n",
       "    </tr>\n",
       "    <tr>\n",
       "      <th>833</th>\n",
       "      <td>7/25/08</td>\n",
       "      <td>1480</td>\n",
       "      <td>85.00</td>\n",
       "      <td>0.00</td>\n",
       "      <td>85.00</td>\n",
       "      <td>4</td>\n",
       "      <td>617.750000</td>\n",
       "    </tr>\n",
       "    <tr>\n",
       "      <th>814</th>\n",
       "      <td>12/21/07</td>\n",
       "      <td>1479</td>\n",
       "      <td>79.34</td>\n",
       "      <td>79.34</td>\n",
       "      <td>0.00</td>\n",
       "      <td>38</td>\n",
       "      <td>65.026316</td>\n",
       "    </tr>\n",
       "    <tr>\n",
       "      <th>794</th>\n",
       "      <td>1/15/08</td>\n",
       "      <td>1479</td>\n",
       "      <td>39.36</td>\n",
       "      <td>39.36</td>\n",
       "      <td>0.00</td>\n",
       "      <td>38</td>\n",
       "      <td>65.026316</td>\n",
       "    </tr>\n",
       "    <tr>\n",
       "      <th>1187</th>\n",
       "      <td>6/24/08</td>\n",
       "      <td>3091</td>\n",
       "      <td>0.00</td>\n",
       "      <td>0.00</td>\n",
       "      <td>0.00</td>\n",
       "      <td>17</td>\n",
       "      <td>145.352941</td>\n",
       "    </tr>\n",
       "    <tr>\n",
       "      <th>1111</th>\n",
       "      <td>9/29/08</td>\n",
       "      <td>3088</td>\n",
       "      <td>197.37</td>\n",
       "      <td>197.37</td>\n",
       "      <td>0.00</td>\n",
       "      <td>73</td>\n",
       "      <td>33.849315</td>\n",
       "    </tr>\n",
       "    <tr>\n",
       "      <th>1871</th>\n",
       "      <td>6/17/08</td>\n",
       "      <td>10598</td>\n",
       "      <td>26.37</td>\n",
       "      <td>26.37</td>\n",
       "      <td>0.00</td>\n",
       "      <td>34</td>\n",
       "      <td>72.676471</td>\n",
       "    </tr>\n",
       "    <tr>\n",
       "      <th>719</th>\n",
       "      <td>8/1/08</td>\n",
       "      <td>1477</td>\n",
       "      <td>0.00</td>\n",
       "      <td>0.00</td>\n",
       "      <td>0.00</td>\n",
       "      <td>26</td>\n",
       "      <td>95.038462</td>\n",
       "    </tr>\n",
       "    <tr>\n",
       "      <th>2407</th>\n",
       "      <td>3/12/08</td>\n",
       "      <td>11423</td>\n",
       "      <td>437.54</td>\n",
       "      <td>234.68</td>\n",
       "      <td>202.86</td>\n",
       "      <td>96</td>\n",
       "      <td>25.739583</td>\n",
       "    </tr>\n",
       "    <tr>\n",
       "      <th>2364</th>\n",
       "      <td>4/19/08</td>\n",
       "      <td>11423</td>\n",
       "      <td>0.00</td>\n",
       "      <td>0.00</td>\n",
       "      <td>0.00</td>\n",
       "      <td>96</td>\n",
       "      <td>25.739583</td>\n",
       "    </tr>\n",
       "    <tr>\n",
       "      <th>1507</th>\n",
       "      <td>7/29/08</td>\n",
       "      <td>10259</td>\n",
       "      <td>0.00</td>\n",
       "      <td>0.00</td>\n",
       "      <td>0.00</td>\n",
       "      <td>31</td>\n",
       "      <td>79.709677</td>\n",
       "    </tr>\n",
       "    <tr>\n",
       "      <th>606</th>\n",
       "      <td>10/14/08</td>\n",
       "      <td>233</td>\n",
       "      <td>0.00</td>\n",
       "      <td>0.00</td>\n",
       "      <td>0.00</td>\n",
       "      <td>17</td>\n",
       "      <td>145.352941</td>\n",
       "    </tr>\n",
       "    <tr>\n",
       "      <th>1950</th>\n",
       "      <td>9/29/08</td>\n",
       "      <td>10600</td>\n",
       "      <td>85.00</td>\n",
       "      <td>85.00</td>\n",
       "      <td>0.00</td>\n",
       "      <td>23</td>\n",
       "      <td>107.434783</td>\n",
       "    </tr>\n",
       "    <tr>\n",
       "      <th>1726</th>\n",
       "      <td>10/9/08</td>\n",
       "      <td>10593</td>\n",
       "      <td>36.96</td>\n",
       "      <td>36.96</td>\n",
       "      <td>0.00</td>\n",
       "      <td>27</td>\n",
       "      <td>91.518519</td>\n",
       "    </tr>\n",
       "  </tbody>\n",
       "</table>\n",
       "</div>"
      ],
      "text/plain": [
       "           DOS  patNum  amountPaid  amountAllowed  difference  count  \\\n",
       "1777    8/5/08   10595       48.16          48.16        0.00     59   \n",
       "2415   3/31/08     230        0.00           0.00        0.00     59   \n",
       "2450   3/15/08     230      192.94         192.94        0.00     59   \n",
       "614    7/31/08     234      132.60         132.60        0.00     19   \n",
       "2114    3/4/08   11422       25.36          25.36        0.00    238   \n",
       "2123   5/27/08   11422       25.36          26.37       -1.01    238   \n",
       "2244   7/15/08   11422        0.00         160.00     -160.00    238   \n",
       "833    7/25/08    1480       85.00           0.00       85.00      4   \n",
       "814   12/21/07    1479       79.34          79.34        0.00     38   \n",
       "794    1/15/08    1479       39.36          39.36        0.00     38   \n",
       "1187   6/24/08    3091        0.00           0.00        0.00     17   \n",
       "1111   9/29/08    3088      197.37         197.37        0.00     73   \n",
       "1871   6/17/08   10598       26.37          26.37        0.00     34   \n",
       "719     8/1/08    1477        0.00           0.00        0.00     26   \n",
       "2407   3/12/08   11423      437.54         234.68      202.86     96   \n",
       "2364   4/19/08   11423        0.00           0.00        0.00     96   \n",
       "1507   7/29/08   10259        0.00           0.00        0.00     31   \n",
       "606   10/14/08     233        0.00           0.00        0.00     17   \n",
       "1950   9/29/08   10600       85.00          85.00        0.00     23   \n",
       "1726   10/9/08   10593       36.96          36.96        0.00     27   \n",
       "\n",
       "          weight  \n",
       "1777   41.881356  \n",
       "2415   41.881356  \n",
       "2450   41.881356  \n",
       "614   130.052632  \n",
       "2114   10.382353  \n",
       "2123   10.382353  \n",
       "2244   10.382353  \n",
       "833   617.750000  \n",
       "814    65.026316  \n",
       "794    65.026316  \n",
       "1187  145.352941  \n",
       "1111   33.849315  \n",
       "1871   72.676471  \n",
       "719    95.038462  \n",
       "2407   25.739583  \n",
       "2364   25.739583  \n",
       "1507   79.709677  \n",
       "606   145.352941  \n",
       "1950  107.434783  \n",
       "1726   91.518519  "
      ]
     },
     "execution_count": 2,
     "metadata": {},
     "output_type": "execute_result"
    }
   ],
   "source": [
    "# count of encounters by each patNum\n",
    "pat_visits = pat_encounters[['DOS','patNum']].groupby('patNum').count().rename(columns={'DOS':'count'})\n",
    "\n",
    "# random sample of 20 encounters with replacement, merged with the count of encouters by patNum\n",
    "pps_sample = pat_encounters.sample(n=20, replace=True).merge(pat_visits, left_on='patNum', right_index=True)\n",
    "\n",
    "# calculating weights\n",
    "pps_sample['weight'] = pat_encounters.DOS.count() / pps_sample['count']\n",
    "\n",
    "pps_sample"
   ]
  },
  {
   "cell_type": "code",
   "execution_count": 3,
   "metadata": {},
   "outputs": [
    {
     "name": "stdout",
     "output_type": "stream",
     "text": [
      "Estimate of total amount paid: 1297.43275095\n",
      "Estimate of total amount allowed: 693.697173841\n",
      "Estimate of total difference: 603.735577108\n"
     ]
    }
   ],
   "source": [
    "print 'Estimate of total amount paid:', ((pps_sample.amountPaid * pps_sample.weight).sum() / \n",
    "                                         pps_sample.weight.sum() * pps_sample.DOS.count())\n",
    "print 'Estimate of total amount allowed:', ((pps_sample.amountAllowed * pps_sample.weight).sum() / \n",
    "                                            pps_sample.weight.sum() * pps_sample.DOS.count())\n",
    "print 'Estimate of total difference:', ((pps_sample.difference * pps_sample.weight).sum() / \n",
    "                                        pps_sample.weight.sum() * pps_sample.DOS.count())"
   ]
  },
  {
   "cell_type": "code",
   "execution_count": 4,
   "metadata": {},
   "outputs": [
    {
     "data": {
      "text/plain": [
       "30.186778855392365"
      ]
     },
     "execution_count": 4,
     "metadata": {},
     "output_type": "execute_result"
    }
   ],
   "source": [
    "(pps_sample.difference * pps_sample.weight).sum() / pps_sample.weight.sum()"
   ]
  },
  {
   "cell_type": "markdown",
   "metadata": {},
   "source": [
    "### Excerise 2  \n",
    "<i>No code required. See Word Doc/PDF</i>"
   ]
  },
  {
   "cell_type": "markdown",
   "metadata": {},
   "source": [
    "### Exercise 3.1  \n",
    "*Take a class roster -or any list- and draw a simple random sample and a systematic sample from it*  \n",
    "\n",
    "**MSDS 6370-402 Course Roster**"
   ]
  },
  {
   "cell_type": "code",
   "execution_count": 9,
   "metadata": {},
   "outputs": [
    {
     "name": "stdout",
     "output_type": "stream",
     "text": [
      "       Name Texas\n",
      "0     Zoheb     Y\n",
      "1     Vivek     N\n",
      "2     Kevin     N\n",
      "3   Michael     Y\n",
      "4    Lamine     N\n",
      "5    Travis     Y\n",
      "6     Ariel     N\n",
      "7    Adarsh     N\n",
      "8      Ryan     N\n",
      "9   Brandon     N\n",
      "10  Charles     Y\n",
      "11     Jack     N\n",
      "12    Oscar     Y\n",
      "13   Misael     Y\n",
      "14    Trace     Y\n",
      "15   Victor     N\n"
     ]
    }
   ],
   "source": [
    "student_roster = pd.read_csv('class_roster.csv')\n",
    "print student_roster"
   ]
  },
  {
   "cell_type": "markdown",
   "metadata": {},
   "source": [
    "**Simple Random Sample (n=5)**"
   ]
  },
  {
   "cell_type": "code",
   "execution_count": 6,
   "metadata": {},
   "outputs": [
    {
     "name": "stdout",
     "output_type": "stream",
     "text": [
      "       Name Texas\n",
      "6     Ariel     N\n",
      "3   Michael     Y\n",
      "2     Kevin     N\n",
      "12    Oscar     Y\n",
      "13   Misael     Y\n"
     ]
    }
   ],
   "source": [
    "srs_class_sample = student_roster.sample(n=5, replace=False)\n",
    "print srs_class_sample"
   ]
  },
  {
   "cell_type": "markdown",
   "metadata": {},
   "source": [
    "**Systematic Sample: Stratified based on Living in Texas (n=5)**"
   ]
  },
  {
   "cell_type": "code",
   "execution_count": 7,
   "metadata": {},
   "outputs": [
    {
     "name": "stdout",
     "output_type": "stream",
     "text": [
      "Texan Stratum n:  2.0\n",
      "Non-Texan Stratum n:  3.0\n"
     ]
    }
   ],
   "source": [
    "n_Texas = student_roster[student_roster.Texas == \"Y\"].count() / student_roster.Texas.count() * 5\n",
    "n_notTexas = student_roster[student_roster.Texas == \"N\"].count() / student_roster.Texas.count() * 5\n",
    "\n",
    "print \"Texan Stratum n: \", n_Texas.Texas.round()\n",
    "print \"Non-Texan Stratum n: \", n_notTexas.Texas.round()"
   ]
  },
  {
   "cell_type": "code",
   "execution_count": 8,
   "metadata": {},
   "outputs": [
    {
     "name": "stdout",
     "output_type": "stream",
     "text": [
      "      Name Texas\n",
      "14   Trace     Y\n",
      "0    Zoheb     Y\n",
      "8     Ryan     N\n",
      "7   Adarsh     N\n",
      "6    Ariel     N\n"
     ]
    }
   ],
   "source": [
    "strat_class_sample = student_roster[student_roster.Texas == \"Y\"].sample(n=int(n_Texas.Texas.round()), \n",
    "                                                                        replace=False)\n",
    "strat_class_sample2 = student_roster[student_roster.Texas == \"N\"].sample(n=int(n_notTexas.Texas.round()), \n",
    "                                                                            replace=False)\n",
    "print pd.DataFrame.append(strat_class_sample, strat_class_sample2)"
   ]
  }
 ],
 "metadata": {
  "kernelspec": {
   "display_name": "Python 3",
   "language": "python",
   "name": "python3"
  },
  "language_info": {
   "codemirror_mode": {
    "name": "ipython",
    "version": 2
   },
   "file_extension": ".py",
   "mimetype": "text/x-python",
   "name": "python",
   "nbconvert_exporter": "python",
   "pygments_lexer": "ipython2",
   "version": "2.7.14"
  }
 },
 "nbformat": 4,
 "nbformat_minor": 2
}
