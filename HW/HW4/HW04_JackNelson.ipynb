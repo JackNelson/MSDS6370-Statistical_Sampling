{
 "cells": [
  {
   "cell_type": "markdown",
   "metadata": {},
   "source": [
    "<h2><center> MSDS 6370: Statistical Sampling </center></h2>\n",
    "<h3><center> Lab 4 <br> Jack Nelson </center></h3> "
   ]
  },
  {
   "cell_type": "code",
   "execution_count": 1,
   "metadata": {},
   "outputs": [
    {
     "name": "stdout",
     "output_type": "stream",
     "text": [
      "  Name  GPA\n",
      "0    A  3.5\n",
      "1    B  2.7\n",
      "2    C  3.1\n",
      "3    D  3.2\n",
      "4    E  2.4\n"
     ]
    }
   ],
   "source": [
    "import pandas as pd\n",
    "import numpy as np\n",
    "\n",
    "grades = pd.read_csv('gpa.csv')\n",
    "print grades "
   ]
  },
  {
   "cell_type": "code",
   "execution_count": 2,
   "metadata": {},
   "outputs": [],
   "source": [
    "gpa_sample = []\n",
    "sample_means = []\n",
    "\n",
    "for i in range(5):\n",
    "    for j in range(5):\n",
    "        for k in range(5):\n",
    "            if (i < j):\n",
    "                if (j < k):\n",
    "                    gpa_sample.append([grades.Name[[i, j, k]]])\n",
    "                    sample_means.append(grades.GPA[[i, j, k]].mean())\n",
    "                    \n",
    "d = {'Sample':gpa_sample, 'Mean':sample_means}\n",
    "samples = pd.DataFrame(d)"
   ]
  },
  {
   "cell_type": "markdown",
   "metadata": {},
   "source": [
    "### Exercise 1: Question 1"
   ]
  },
  {
   "cell_type": "code",
   "execution_count": 3,
   "metadata": {},
   "outputs": [
    {
     "name": "stdout",
     "output_type": "stream",
     "text": [
      "Number of possible samples:  10\n"
     ]
    }
   ],
   "source": [
    "print 'Number of possible samples: ', len(samples.index)"
   ]
  },
  {
   "cell_type": "markdown",
   "metadata": {},
   "source": [
    "### Exercise 1: Question 2"
   ]
  },
  {
   "cell_type": "code",
   "execution_count": 4,
   "metadata": {},
   "outputs": [
    {
     "name": "stdout",
     "output_type": "stream",
     "text": [
      "       Mean       Sample\n",
      "0  3.100000  [[A, B, C]]\n",
      "1  3.133333  [[A, B, D]]\n",
      "2  2.866667  [[A, B, E]]\n",
      "3  3.266667  [[A, C, D]]\n",
      "4  3.000000  [[A, C, E]]\n",
      "5  3.033333  [[A, D, E]]\n",
      "6  3.000000  [[B, C, D]]\n",
      "7  2.733333  [[B, C, E]]\n",
      "8  2.766667  [[B, D, E]]\n",
      "9  2.900000  [[C, D, E]]\n"
     ]
    }
   ],
   "source": [
    "print samples"
   ]
  },
  {
   "cell_type": "markdown",
   "metadata": {},
   "source": [
    "### Exercise 1: Question 3"
   ]
  },
  {
   "cell_type": "code",
   "execution_count": 5,
   "metadata": {},
   "outputs": [
    {
     "name": "stdout",
     "output_type": "stream",
     "text": [
      "Sampling Mean:  2.98\n"
     ]
    }
   ],
   "source": [
    "print 'Sampling Mean: ', samples['Mean'].mean()"
   ]
  },
  {
   "cell_type": "markdown",
   "metadata": {},
   "source": [
    "### Exercise 1: Question 4"
   ]
  },
  {
   "cell_type": "code",
   "execution_count": 6,
   "metadata": {},
   "outputs": [
    {
     "name": "stdout",
     "output_type": "stream",
     "text": [
      "Sampling Variance:  0.157902923764\n"
     ]
    }
   ],
   "source": [
    "print 'Sampling Variance: ', ((((samples['Mean'] - samples['Mean'].mean()) ** 2) / \n",
    "                               len(samples.index)).sum()) ** (0.5) "
   ]
  }
 ],
 "metadata": {
  "kernelspec": {
   "display_name": "Python 3",
   "language": "python",
   "name": "python3"
  },
  "language_info": {
   "codemirror_mode": {
    "name": "ipython",
    "version": 2
   },
   "file_extension": ".py",
   "mimetype": "text/x-python",
   "name": "python",
   "nbconvert_exporter": "python",
   "pygments_lexer": "ipython2",
   "version": "2.7.14"
  }
 },
 "nbformat": 4,
 "nbformat_minor": 2
}
