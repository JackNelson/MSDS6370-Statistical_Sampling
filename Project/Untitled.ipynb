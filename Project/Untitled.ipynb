{
 "cells": [
  {
   "cell_type": "code",
   "execution_count": 1,
   "metadata": {},
   "outputs": [
    {
     "name": "stdout",
     "output_type": "stream",
     "text": [
      "<class 'pandas.core.frame.DataFrame'>\n",
      "RangeIndex: 9762 entries, 0 to 9761\n",
      "Data columns (total 7 columns):\n",
      "Unnamed: 0    9762 non-null int64\n",
      "coID          9762 non-null int64\n",
      "sales         9762 non-null float64\n",
      "inventory     9762 non-null float64\n",
      "strata_1      9762 non-null int64\n",
      "strata_2      9762 non-null int64\n",
      "strata_3      9762 non-null int64\n",
      "dtypes: float64(2), int64(5)\n",
      "memory usage: 533.9 KB\n"
     ]
    }
   ],
   "source": [
    "import pandas as pd\n",
    "import numpy as np\n",
    "import itertools\n",
    "pd.options.mode.chained_assignment = None\n",
    "\n",
    "#read in csv file\n",
    "df = pd.read_csv('projectData2.csv')\n",
    "df.info()"
   ]
  },
  {
   "cell_type": "code",
   "execution_count": 2,
   "metadata": {},
   "outputs": [
    {
     "name": "stdout",
     "output_type": "stream",
     "text": [
      "strata_1\n",
      "1     4285\n",
      "2     1988\n",
      "3     1308\n",
      "4      919\n",
      "5      554\n",
      "6      314\n",
      "7      201\n",
      "8      125\n",
      "9       57\n",
      "10      11\n",
      "Name: sales, dtype: int64\n"
     ]
    }
   ],
   "source": [
    "pctl_freq = df.groupby(['strata_1'])['sales'].count()\n",
    "print pctl_freq"
   ]
  },
  {
   "cell_type": "code",
   "execution_count": 3,
   "metadata": {},
   "outputs": [
    {
     "name": "stdout",
     "output_type": "stream",
     "text": [
      "strata_2\n",
      "1     2560\n",
      "3     1725\n",
      "4     1988\n",
      "5      707\n",
      "6     1099\n",
      "7      740\n",
      "8      410\n",
      "9      419\n",
      "10     114\n",
      "Name: sales, dtype: int64\n"
     ]
    }
   ],
   "source": [
    "pctl_freq = df.groupby(['strata_2'])['sales'].count()\n",
    "print pctl_freq"
   ]
  },
  {
   "cell_type": "code",
   "execution_count": 4,
   "metadata": {},
   "outputs": [
    {
     "name": "stdout",
     "output_type": "stream",
     "text": [
      "strata_3\n",
      "1    4208\n",
      "2    3435\n",
      "3    1212\n",
      "4     529\n",
      "5     280\n",
      "6      85\n",
      "7      11\n",
      "8       2\n",
      "Name: sales, dtype: int64\n"
     ]
    }
   ],
   "source": [
    "pctl_freq = df.groupby(['strata_3'])['sales'].count()\n",
    "print pctl_freq"
   ]
  },
  {
   "cell_type": "code",
   "execution_count": 5,
   "metadata": {},
   "outputs": [
    {
     "name": "stdout",
     "output_type": "stream",
     "text": [
      "<class 'pandas.core.frame.DataFrame'>\n",
      "RangeIndex: 9762 entries, 0 to 9761\n",
      "Data columns (total 7 columns):\n",
      "coID              9762 non-null int64\n",
      "sales             9762 non-null float64\n",
      "inventory         9762 non-null float64\n",
      "cum_inventory     9762 non-null float64\n",
      "Cum_Stratum       9762 non-null int64\n",
      "E_Stratum_3       9762 non-null int64\n",
      "Cum_fy_Stratum    9762 non-null int64\n",
      "dtypes: float64(3), int64(4)\n",
      "memory usage: 533.9 KB\n"
     ]
    }
   ],
   "source": [
    "df2 = pd.read_csv('projectData_strata.csv')\n",
    "df2.info()"
   ]
  },
  {
   "cell_type": "code",
   "execution_count": 22,
   "metadata": {},
   "outputs": [
    {
     "name": "stdout",
     "output_type": "stream",
     "text": [
      "Cum_Stratum\n",
      "1     5728\n",
      "2     1680\n",
      "3     1002\n",
      "4      600\n",
      "5      361\n",
      "6      202\n",
      "7      122\n",
      "8       51\n",
      "9       14\n",
      "10       2\n",
      "Name: inventory, dtype: int64\n"
     ]
    }
   ],
   "source": [
    "pctl_freq2 = df2.groupby(['Cum_Stratum'])['inventory'].count()\n",
    "print pctl_freq2"
   ]
  },
  {
   "cell_type": "code",
   "execution_count": 31,
   "metadata": {},
   "outputs": [],
   "source": [
    "def neymanAlloc(df, strata_field, sample_size):\n",
    "    neyman_alloc = pd.DataFrame()\n",
    "    neyman_alloc['stratum'] = df.groupby([strata_field], as_index = False).count()[strata_field]\n",
    "    neyman_alloc['N_h'] = df.groupby([strata_field], as_index = False).count()['coID']\n",
    "    neyman_alloc['S_h'] = df.groupby([strata_field], as_index = False).std()['inventory'])\n",
    "    neyman_alloc['N_h*S_h'] = df.groupby([strata_field], as_index = False).std()['inventory'] * neyman_alloc['N_h']\n",
    "    neyman_alloc['N_h*S_h/sum(N_h*S_h)'] = neyman_alloc['N_h*S_h'] / neyman_alloc['N_h*S_h'].sum()\n",
    "    neyman_alloc['samp*N_h*S_h/sum(N_h*S_h)'] = sample_size * neyman_alloc['N_h*S_h/sum(N_h*S_h)']\n",
    "    neyman_alloc['sample size'] = neyman_alloc['samp*N_h*S_h/sum(N_h*S_h)'].round().astype('int')\n",
    "    \n",
    "    print neyman_alloc\n",
    "    return neyman_alloc['N_h'], neyman_alloc['sample size']"
   ]
  },
  {
   "cell_type": "code",
   "execution_count": 20,
   "metadata": {},
   "outputs": [
    {
     "name": "stdout",
     "output_type": "stream",
     "text": [
      "   stratum   N_h           S_h       N_h*S_h  N_h*S_h/sum(N_h*S_h)  \\\n",
      "0        1  5728  1.867460e+04  1.069681e+08              0.268932   \n",
      "1        2  1680  1.759620e+04  2.956162e+07              0.074322   \n",
      "2        3  1002  2.293439e+04  2.298025e+07              0.057775   \n",
      "3        4   600  4.032405e+04  2.419443e+07              0.060828   \n",
      "4        5   361  7.946726e+04  2.868768e+07              0.072125   \n",
      "5        6   202  1.610430e+05  3.253069e+07              0.081787   \n",
      "6        7   122  2.699542e+05  3.293441e+07              0.082802   \n",
      "7        8    51  9.694394e+05  4.944141e+07              0.124302   \n",
      "8        9    14  4.658438e+06  6.521813e+07              0.163967   \n",
      "9       10     2  2.617081e+06  5.234163e+06              0.013159   \n",
      "\n",
      "   samp*N_h*S_h/sum(N_h*S_h)  sample size  \n",
      "0                 134.466233          134  \n",
      "1                  37.160968           37  \n",
      "2                  28.887744           29  \n",
      "3                  30.414048           30  \n",
      "4                  36.062370           36  \n",
      "5                  40.893290           41  \n",
      "6                  41.400794           41  \n",
      "7                  62.151220           62  \n",
      "8                  81.983634           82  \n",
      "9                   6.579699            7  \n"
     ]
    }
   ],
   "source": [
    "strata_1_Nh, strata_1_neyman = neymanAlloc(df2, 'Cum_Stratum', 500)"
   ]
  },
  {
   "cell_type": "code",
   "execution_count": 32,
   "metadata": {},
   "outputs": [
    {
     "name": "stdout",
     "output_type": "stream",
     "text": [
      "Cum_fy_Stratum\n",
      "1    4215\n",
      "2    1513\n",
      "3     963\n",
      "4     717\n",
      "5     556\n",
      "6     781\n",
      "7     471\n",
      "8     357\n",
      "9     189\n",
      "Name: inventory, dtype: int64\n"
     ]
    }
   ],
   "source": [
    "pctl_freq2 = df2.groupby(['Cum_fy_Stratum'])['inventory'].count()\n",
    "print pctl_freq2"
   ]
  },
  {
   "cell_type": "code",
   "execution_count": 33,
   "metadata": {},
   "outputs": [
    {
     "ename": "UnsupportedFunctionCall",
     "evalue": "numpy operations are not valid with groupby. Use .groupby(...).std() instead",
     "output_type": "error",
     "traceback": [
      "\u001b[0;31m---------------------------------------------------------------------------\u001b[0m",
      "\u001b[0;31mUnsupportedFunctionCall\u001b[0m                   Traceback (most recent call last)",
      "\u001b[0;32m<ipython-input-33-db5e94fc48a3>\u001b[0m in \u001b[0;36m<module>\u001b[0;34m()\u001b[0m\n\u001b[0;32m----> 1\u001b[0;31m \u001b[0mstrata_1_Nh\u001b[0m\u001b[0;34m,\u001b[0m \u001b[0mstrata_1_neyman\u001b[0m \u001b[0;34m=\u001b[0m \u001b[0mneymanAlloc\u001b[0m\u001b[0;34m(\u001b[0m\u001b[0mdf2\u001b[0m\u001b[0;34m,\u001b[0m \u001b[0;34m'Cum_fy_Stratum'\u001b[0m\u001b[0;34m,\u001b[0m \u001b[0;36m500\u001b[0m\u001b[0;34m)\u001b[0m\u001b[0;34m\u001b[0m\u001b[0m\n\u001b[0m",
      "\u001b[0;32m<ipython-input-31-4ab70aaf746d>\u001b[0m in \u001b[0;36mneymanAlloc\u001b[0;34m(df, strata_field, sample_size)\u001b[0m\n\u001b[1;32m      3\u001b[0m     \u001b[0mneyman_alloc\u001b[0m\u001b[0;34m[\u001b[0m\u001b[0;34m'stratum'\u001b[0m\u001b[0;34m]\u001b[0m \u001b[0;34m=\u001b[0m \u001b[0mdf\u001b[0m\u001b[0;34m.\u001b[0m\u001b[0mgroupby\u001b[0m\u001b[0;34m(\u001b[0m\u001b[0;34m[\u001b[0m\u001b[0mstrata_field\u001b[0m\u001b[0;34m]\u001b[0m\u001b[0;34m,\u001b[0m \u001b[0mas_index\u001b[0m \u001b[0;34m=\u001b[0m \u001b[0mFalse\u001b[0m\u001b[0;34m)\u001b[0m\u001b[0;34m.\u001b[0m\u001b[0mcount\u001b[0m\u001b[0;34m(\u001b[0m\u001b[0;34m)\u001b[0m\u001b[0;34m[\u001b[0m\u001b[0mstrata_field\u001b[0m\u001b[0;34m]\u001b[0m\u001b[0;34m\u001b[0m\u001b[0m\n\u001b[1;32m      4\u001b[0m     \u001b[0mneyman_alloc\u001b[0m\u001b[0;34m[\u001b[0m\u001b[0;34m'N_h'\u001b[0m\u001b[0;34m]\u001b[0m \u001b[0;34m=\u001b[0m \u001b[0mdf\u001b[0m\u001b[0;34m.\u001b[0m\u001b[0mgroupby\u001b[0m\u001b[0;34m(\u001b[0m\u001b[0;34m[\u001b[0m\u001b[0mstrata_field\u001b[0m\u001b[0;34m]\u001b[0m\u001b[0;34m,\u001b[0m \u001b[0mas_index\u001b[0m \u001b[0;34m=\u001b[0m \u001b[0mFalse\u001b[0m\u001b[0;34m)\u001b[0m\u001b[0;34m.\u001b[0m\u001b[0mcount\u001b[0m\u001b[0;34m(\u001b[0m\u001b[0;34m)\u001b[0m\u001b[0;34m[\u001b[0m\u001b[0;34m'coID'\u001b[0m\u001b[0;34m]\u001b[0m\u001b[0;34m\u001b[0m\u001b[0m\n\u001b[0;32m----> 5\u001b[0;31m     \u001b[0mneyman_alloc\u001b[0m\u001b[0;34m[\u001b[0m\u001b[0;34m'S_h'\u001b[0m\u001b[0;34m]\u001b[0m \u001b[0;34m=\u001b[0m \u001b[0mnp\u001b[0m\u001b[0;34m.\u001b[0m\u001b[0mstd\u001b[0m\u001b[0;34m(\u001b[0m\u001b[0mdf\u001b[0m\u001b[0;34m.\u001b[0m\u001b[0mgroupby\u001b[0m\u001b[0;34m(\u001b[0m\u001b[0;34m[\u001b[0m\u001b[0mstrata_field\u001b[0m\u001b[0;34m]\u001b[0m\u001b[0;34m,\u001b[0m \u001b[0mas_index\u001b[0m \u001b[0;34m=\u001b[0m \u001b[0mFalse\u001b[0m\u001b[0;34m)\u001b[0m\u001b[0;34m[\u001b[0m\u001b[0;34m'inventory'\u001b[0m\u001b[0;34m]\u001b[0m\u001b[0;34m)\u001b[0m\u001b[0;34m\u001b[0m\u001b[0m\n\u001b[0m\u001b[1;32m      6\u001b[0m     \u001b[0mneyman_alloc\u001b[0m\u001b[0;34m[\u001b[0m\u001b[0;34m'N_h*S_h'\u001b[0m\u001b[0;34m]\u001b[0m \u001b[0;34m=\u001b[0m \u001b[0mdf\u001b[0m\u001b[0;34m.\u001b[0m\u001b[0mgroupby\u001b[0m\u001b[0;34m(\u001b[0m\u001b[0;34m[\u001b[0m\u001b[0mstrata_field\u001b[0m\u001b[0;34m]\u001b[0m\u001b[0;34m,\u001b[0m \u001b[0mas_index\u001b[0m \u001b[0;34m=\u001b[0m \u001b[0mFalse\u001b[0m\u001b[0;34m)\u001b[0m\u001b[0;34m.\u001b[0m\u001b[0mstd\u001b[0m\u001b[0;34m(\u001b[0m\u001b[0;34m)\u001b[0m\u001b[0;34m[\u001b[0m\u001b[0;34m'inventory'\u001b[0m\u001b[0;34m]\u001b[0m \u001b[0;34m*\u001b[0m \u001b[0mneyman_alloc\u001b[0m\u001b[0;34m[\u001b[0m\u001b[0;34m'N_h'\u001b[0m\u001b[0;34m]\u001b[0m\u001b[0;34m\u001b[0m\u001b[0m\n\u001b[1;32m      7\u001b[0m     \u001b[0mneyman_alloc\u001b[0m\u001b[0;34m[\u001b[0m\u001b[0;34m'N_h*S_h/sum(N_h*S_h)'\u001b[0m\u001b[0;34m]\u001b[0m \u001b[0;34m=\u001b[0m \u001b[0mneyman_alloc\u001b[0m\u001b[0;34m[\u001b[0m\u001b[0;34m'N_h*S_h'\u001b[0m\u001b[0;34m]\u001b[0m \u001b[0;34m/\u001b[0m \u001b[0mneyman_alloc\u001b[0m\u001b[0;34m[\u001b[0m\u001b[0;34m'N_h*S_h'\u001b[0m\u001b[0;34m]\u001b[0m\u001b[0;34m.\u001b[0m\u001b[0msum\u001b[0m\u001b[0;34m(\u001b[0m\u001b[0;34m)\u001b[0m\u001b[0;34m\u001b[0m\u001b[0m\n",
      "\u001b[0;32m/Users/JackNelson/anaconda2/lib/python2.7/site-packages/numpy/core/fromnumeric.pyc\u001b[0m in \u001b[0;36mstd\u001b[0;34m(a, axis, dtype, out, ddof, keepdims)\u001b[0m\n\u001b[1;32m   3022\u001b[0m             \u001b[0;32mpass\u001b[0m\u001b[0;34m\u001b[0m\u001b[0m\n\u001b[1;32m   3023\u001b[0m         \u001b[0;32melse\u001b[0m\u001b[0;34m:\u001b[0m\u001b[0;34m\u001b[0m\u001b[0m\n\u001b[0;32m-> 3024\u001b[0;31m             \u001b[0;32mreturn\u001b[0m \u001b[0mstd\u001b[0m\u001b[0;34m(\u001b[0m\u001b[0maxis\u001b[0m\u001b[0;34m=\u001b[0m\u001b[0maxis\u001b[0m\u001b[0;34m,\u001b[0m \u001b[0mdtype\u001b[0m\u001b[0;34m=\u001b[0m\u001b[0mdtype\u001b[0m\u001b[0;34m,\u001b[0m \u001b[0mout\u001b[0m\u001b[0;34m=\u001b[0m\u001b[0mout\u001b[0m\u001b[0;34m,\u001b[0m \u001b[0mddof\u001b[0m\u001b[0;34m=\u001b[0m\u001b[0mddof\u001b[0m\u001b[0;34m,\u001b[0m \u001b[0;34m**\u001b[0m\u001b[0mkwargs\u001b[0m\u001b[0;34m)\u001b[0m\u001b[0;34m\u001b[0m\u001b[0m\n\u001b[0m\u001b[1;32m   3025\u001b[0m \u001b[0;34m\u001b[0m\u001b[0m\n\u001b[1;32m   3026\u001b[0m     return _methods._std(a, axis=axis, dtype=dtype, out=out, ddof=ddof,\n",
      "\u001b[0;32m/Users/JackNelson/anaconda2/lib/python2.7/site-packages/pandas/core/groupby.pyc\u001b[0m in \u001b[0;36mstd\u001b[0;34m(self, ddof, *args, **kwargs)\u001b[0m\n\u001b[1;32m   1169\u001b[0m \u001b[0;34m\u001b[0m\u001b[0m\n\u001b[1;32m   1170\u001b[0m         \u001b[0;31m# TODO: implement at Cython level?\u001b[0m\u001b[0;34m\u001b[0m\u001b[0;34m\u001b[0m\u001b[0m\n\u001b[0;32m-> 1171\u001b[0;31m         \u001b[0mnv\u001b[0m\u001b[0;34m.\u001b[0m\u001b[0mvalidate_groupby_func\u001b[0m\u001b[0;34m(\u001b[0m\u001b[0;34m'std'\u001b[0m\u001b[0;34m,\u001b[0m \u001b[0margs\u001b[0m\u001b[0;34m,\u001b[0m \u001b[0mkwargs\u001b[0m\u001b[0;34m)\u001b[0m\u001b[0;34m\u001b[0m\u001b[0m\n\u001b[0m\u001b[1;32m   1172\u001b[0m         \u001b[0;32mreturn\u001b[0m \u001b[0mnp\u001b[0m\u001b[0;34m.\u001b[0m\u001b[0msqrt\u001b[0m\u001b[0;34m(\u001b[0m\u001b[0mself\u001b[0m\u001b[0;34m.\u001b[0m\u001b[0mvar\u001b[0m\u001b[0;34m(\u001b[0m\u001b[0mddof\u001b[0m\u001b[0;34m=\u001b[0m\u001b[0mddof\u001b[0m\u001b[0;34m,\u001b[0m \u001b[0;34m**\u001b[0m\u001b[0mkwargs\u001b[0m\u001b[0;34m)\u001b[0m\u001b[0;34m)\u001b[0m\u001b[0;34m\u001b[0m\u001b[0m\n\u001b[1;32m   1173\u001b[0m \u001b[0;34m\u001b[0m\u001b[0m\n",
      "\u001b[0;32m/Users/JackNelson/anaconda2/lib/python2.7/site-packages/pandas/compat/numpy/function.pyc\u001b[0m in \u001b[0;36mvalidate_groupby_func\u001b[0;34m(name, args, kwargs, allowed)\u001b[0m\n\u001b[1;32m    340\u001b[0m             \u001b[0;34m\"numpy operations are not valid \"\u001b[0m\u001b[0;34m\u001b[0m\u001b[0m\n\u001b[1;32m    341\u001b[0m             \u001b[0;34m\"with groupby. Use .groupby(...).\"\u001b[0m\u001b[0;34m\u001b[0m\u001b[0m\n\u001b[0;32m--> 342\u001b[0;31m             \"{func}() instead\".format(func=name)))\n\u001b[0m\u001b[1;32m    343\u001b[0m \u001b[0;34m\u001b[0m\u001b[0m\n\u001b[1;32m    344\u001b[0m \u001b[0;34m\u001b[0m\u001b[0m\n",
      "\u001b[0;31mUnsupportedFunctionCall\u001b[0m: numpy operations are not valid with groupby. Use .groupby(...).std() instead"
     ]
    }
   ],
   "source": [
    "strata_1_Nh, strata_1_neyman = neymanAlloc(df2, 'Cum_fy_Stratum', 500)"
   ]
  },
  {
   "cell_type": "code",
   "execution_count": 29,
   "metadata": {},
   "outputs": [
    {
     "name": "stdout",
     "output_type": "stream",
     "text": [
      "<class 'pandas.core.frame.DataFrame'>\n",
      "Int64Index: 9573 entries, 0 to 9572\n",
      "Data columns (total 7 columns):\n",
      "coID              9573 non-null int64\n",
      "sales             9573 non-null float64\n",
      "inventory         9573 non-null float64\n",
      "cum_inventory     9573 non-null float64\n",
      "Cum_Stratum       9573 non-null int64\n",
      "E_Stratum_3       9573 non-null int64\n",
      "Cum_fy_Stratum    9573 non-null int64\n",
      "dtypes: float64(3), int64(4)\n",
      "memory usage: 598.3 KB\n"
     ]
    }
   ],
   "source": [
    "df3 = df2[df2['Cum_fy_Stratum'] < 9]\n",
    "df3.info()"
   ]
  },
  {
   "cell_type": "code",
   "execution_count": 30,
   "metadata": {},
   "outputs": [
    {
     "name": "stdout",
     "output_type": "stream",
     "text": [
      "   stratum   N_h            S_h       N_h*S_h  N_h*S_h/sum(N_h*S_h)  \\\n",
      "0        1  4215    6057.624256  2.553289e+07              0.133827   \n",
      "1        2  1513   14196.215417  2.147887e+07              0.112578   \n",
      "2        3   963    6447.506755  6.208949e+06              0.032543   \n",
      "3        4   717   10347.934568  7.419469e+06              0.038888   \n",
      "4        5   556   10418.146185  5.792489e+06              0.030360   \n",
      "5        6   781   36691.487369  2.865605e+07              0.150196   \n",
      "6        7   471   55035.747971  2.592184e+07              0.135865   \n",
      "7        8   357  195462.254176  6.978002e+07              0.365741   \n",
      "\n",
      "   samp*N_h*S_h/sum(N_h*S_h)  sample size  \n",
      "0                  41.620124           42  \n",
      "1                  35.011843           35  \n",
      "2                  10.120956           10  \n",
      "3                  12.094176           12  \n",
      "4                   9.442102            9  \n",
      "5                  46.711069           47  \n",
      "6                  42.254137           42  \n",
      "7                 113.745592          114  \n"
     ]
    }
   ],
   "source": [
    "strata_1_Nh, strata_1_neyman = neymanAlloc(df3, 'Cum_fy_Stratum', 311)"
   ]
  },
  {
   "cell_type": "code",
   "execution_count": 9,
   "metadata": {},
   "outputs": [
    {
     "name": "stdout",
     "output_type": "stream",
     "text": [
      "E_Stratum_3\n",
      "1    3368\n",
      "2    2473\n",
      "3    1535\n",
      "4     842\n",
      "5     556\n",
      "6     364\n",
      "7     241\n",
      "8     381\n",
      "9       2\n",
      "Name: sales, dtype: int64\n"
     ]
    }
   ],
   "source": [
    "pctl_freq2 = df2.groupby(['E_Stratum_3'])['sales'].count()\n",
    "print pctl_freq2"
   ]
  },
  {
   "cell_type": "code",
   "execution_count": 14,
   "metadata": {},
   "outputs": [
    {
     "name": "stdout",
     "output_type": "stream",
     "text": [
      "   stratum   N_h       N_h*S_h  N_h*S_h/sum(N_h*S_h)  \\\n",
      "0        1  3368  9.434446e+07              0.077682   \n",
      "1        2  2473  1.485278e+08              0.122296   \n",
      "2        3  1535  1.053583e+08              0.086751   \n",
      "3        4   842  8.007205e+07              0.065930   \n",
      "4        5   556  7.641923e+07              0.062923   \n",
      "5        6   364  5.952732e+07              0.049014   \n",
      "6        7   241  4.543605e+07              0.037411   \n",
      "7        8   381  5.544115e+08              0.456495   \n",
      "8        9     2  5.040022e+07              0.041499   \n",
      "\n",
      "   samp*N_h*S_h/sum(N_h*S_h)  sample size  \n",
      "0                  38.840961           39  \n",
      "1                  61.147875           61  \n",
      "2                  43.375284           43  \n",
      "3                  32.965111           33  \n",
      "4                  31.461269           31  \n",
      "5                  24.506986           25  \n",
      "6                  18.705709           19  \n",
      "7                 228.247381          228  \n",
      "8                  20.749423           21  \n"
     ]
    }
   ],
   "source": [
    "strata_1_Nh, strata_1_neyman = neymanAlloc(df2, 'E_Stratum_3', 500)"
   ]
  },
  {
   "cell_type": "code",
   "execution_count": null,
   "metadata": {},
   "outputs": [],
   "source": []
  }
 ],
 "metadata": {
  "kernelspec": {
   "display_name": "Python 3",
   "language": "python",
   "name": "python3"
  },
  "language_info": {
   "codemirror_mode": {
    "name": "ipython",
    "version": 2
   },
   "file_extension": ".py",
   "mimetype": "text/x-python",
   "name": "python",
   "nbconvert_exporter": "python",
   "pygments_lexer": "ipython2",
   "version": "2.7.14"
  }
 },
 "nbformat": 4,
 "nbformat_minor": 2
}
