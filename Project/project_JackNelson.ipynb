{
 "cells": [
  {
   "cell_type": "code",
   "execution_count": 1,
   "metadata": {},
   "outputs": [
    {
     "name": "stdout",
     "output_type": "stream",
     "text": [
      "<class 'pandas.core.frame.DataFrame'>\n",
      "RangeIndex: 9762 entries, 0 to 9761\n",
      "Data columns (total 3 columns):\n",
      "coID         9762 non-null int64\n",
      "sales        9762 non-null float64\n",
      "inventory    9762 non-null float64\n",
      "dtypes: float64(2), int64(1)\n",
      "memory usage: 228.9 KB\n"
     ]
    }
   ],
   "source": [
    "import pandas as pd\n",
    "import numpy as np\n",
    "import itertools\n",
    "pd.options.mode.chained_assignment = None\n",
    "\n",
    "#read in csv file\n",
    "df = pd.read_csv('projectData.csv')\n",
    "df.info()"
   ]
  },
  {
   "cell_type": "code",
   "execution_count": 2,
   "metadata": {},
   "outputs": [],
   "source": [
    "#sort values, reset index\n",
    "df = df.sort_values(by=['sales'])\n",
    "df = df.reset_index(drop=True)\n",
    "\n",
    "df2 = df.copy()"
   ]
  },
  {
   "cell_type": "markdown",
   "metadata": {},
   "source": [
    "# Determining Strata #1: Cumlative Method\n",
    "\n",
    "#### Determining 10 Stratas"
   ]
  },
  {
   "cell_type": "code",
   "execution_count": 3,
   "metadata": {},
   "outputs": [
    {
     "name": "stdout",
     "output_type": "stream",
     "text": [
      "   coID       sales      inventory     cumSales\n",
      "0  6578  124.430200    6756.016916   124.430200\n",
      "1  6531  164.460412    2429.508343   288.890613\n",
      "2  4555  191.616081   46088.726420   480.506694\n",
      "3  8497  210.496795    2990.580635   691.003490\n",
      "4  2096  842.906821  194922.480200  1533.910311 \n",
      "\n",
      "      coID         sales     inventory      cumSales\n",
      "9757    29  8.785041e+06  6.674551e+06  1.289021e+09\n",
      "9758    35  1.198820e+07  4.331299e+06  1.301009e+09\n",
      "9759    18  1.651809e+07  1.016784e+08  1.317527e+09\n",
      "9760    28  1.912679e+07  2.062727e+06  1.336654e+09\n",
      "9761    19  5.215643e+07  1.053796e+08  1.388810e+09 \n",
      "\n",
      "Total Sales:  1388810307.69\n",
      "5% of Sales Cutpoint:  69440515.3843\n"
     ]
    }
   ],
   "source": [
    "#determining percentile/strata cutpoints\n",
    "df2['cumSales'] = pd.Series(df2.sales, index=df2.index)\n",
    "for i in range(len(df2.sales)):\n",
    "    if i > 0:\n",
    "        df2.cumSales[i] = df2.sales[i] + df2.cumSales[i-1]\n",
    "    else:\n",
    "        df2.cumSales[i] = df2.sales[i]\n",
    "print df2.head(5),\"\\n\"\n",
    "print df2.tail(5),\"\\n\"\n",
    "print \"Total Sales: \",df2.sales.sum()\n",
    "print \"5% of Sales Cutpoint: \",df2.sales.sum()/20"
   ]
  },
  {
   "cell_type": "code",
   "execution_count": 4,
   "metadata": {},
   "outputs": [],
   "source": [
    "#assigning rows to each percentile\n",
    "pctl_cutpoints = np.arange(69440515.3843, 1388810307.69, 69440515.3843)\n",
    "pctl = ['P00-P05','P05-P10','P10-P15','P15-P20','P20-P25','P25-P30','P30-P35','P35-P40',\n",
    "       'P40-P45','P45-P50','P50-P55','P55-P60','P60-P65','P65-P70','P70-P75','P75-P80',\n",
    "       'P80-P85','P85-P90','P90-P95','P95-P100']\n",
    "pctl_dict = dict(itertools.izip(pctl_cutpoints, pctl))\n",
    "\n",
    "df2['pctl'] = pd.Series(pctl[-1], index=df2.index)\n",
    "for i in range(len(df2.cumSales)):\n",
    "    for j in range(len(pctl_cutpoints)-1,-1,-1):\n",
    "        if df2.cumSales[i] < pctl_cutpoints[j]:\n",
    "            df2.pctl[i] = pctl_dict.get(pctl_cutpoints[j])     "
   ]
  },
  {
   "cell_type": "code",
   "execution_count": 11,
   "metadata": {},
   "outputs": [
    {
     "name": "stdout",
     "output_type": "stream",
     "text": [
      "9762\n"
     ]
    }
   ],
   "source": [
    "strata_1_alloc = [1, 1, 2, 2, 3, 3, 4, 4, 5, 5, 6, 6, 7, 7, 8, 8, 9, 9, 10, 10]\n",
    "strata_1_dict = dict(itertools.izip(pctl, strata_1_alloc))\n",
    "strata_1 = []\n",
    "\n",
    "for i in range(len(df2.pctl)):\n",
    "    strata_1.append(strata_1_dict.get(df2.pctl[i]))\n",
    "print len(strata_1)"
   ]
  },
  {
   "cell_type": "code",
   "execution_count": 13,
   "metadata": {},
   "outputs": [],
   "source": [
    "df['strata_1'] = pd.Series(strata_1, index=df.index)"
   ]
  },
  {
   "cell_type": "markdown",
   "metadata": {},
   "source": [
    "# Determining Strata #2: Cumlative Sqrt Frequency Method\n",
    "\n",
    "#### 10 Stratas"
   ]
  },
  {
   "cell_type": "code",
   "execution_count": 16,
   "metadata": {},
   "outputs": [
    {
     "name": "stdout",
     "output_type": "stream",
     "text": [
      "          cum_sqrt_freq  freq  sqrt_freq  strata\n",
      "pctl                                            \n",
      "P00-P05       50.596443  2560  50.596443     1.0\n",
      "P05-P10       92.129562  1725  41.533119     3.0\n",
      "P10-P15      125.863817  1138  33.734256     4.0\n",
      "P15-P20      155.018577   850  29.154759     4.0\n",
      "P20-P25      181.608049   707  26.589472     5.0\n",
      "P25-P30      206.123350   601  24.515301     6.0\n",
      "P30-P35      228.439263   498  22.315914     6.0\n",
      "P35-P40      248.957548   421  20.518285     7.0\n",
      "P40-P45      266.818119   319  17.860571     7.0\n",
      "P45-P50      282.147829   235  15.329710     8.0\n",
      "P50-P55      295.376585   175  13.228757     8.0\n",
      "P55-P60      307.166412   139  11.789826     9.0\n",
      "P60-P65      317.606718   109  10.440307     9.0\n",
      "P65-P70      327.198381    92   9.591663     9.0\n",
      "P70-P75      336.086575    79   8.888194     9.0\n",
      "P75-P80      342.868905    46   6.782330    10.0\n",
      "P80-P85      348.699857    34   5.830952    10.0\n",
      "P85-P90      353.495689    23   4.795832    10.0\n",
      "P90-P95      356.495689     9   3.000000    10.0\n",
      "P95-P100     357.909902     2   1.414214    10.0\n",
      "\n",
      "Total Cumulative sqrt(pctl_freq):  357.909902447\n",
      "Strata Cutpoint (h=4):  35.7909902447\n"
     ]
    }
   ],
   "source": [
    "#determining strata cutpoints and assigning them to percentile cutpoints\n",
    "pctl_freq = df2.groupby(['pctl'])['sales'].count()\n",
    "pctl_freq_sqrt = np.sqrt(pctl_freq)\n",
    "cum_freq_sqrt = []\n",
    "\n",
    "for i in range(len(pctl_freq)):\n",
    "    if i > 0:\n",
    "        cum_freq_sqrt.append(pctl_freq_sqrt[i] + cum_freq_sqrt[i-1])\n",
    "    else:\n",
    "        cum_freq_sqrt.append(pctl_freq_sqrt[i])\n",
    "\n",
    "strata_cut = pctl_freq_sqrt.sum()/10\n",
    "\n",
    "strata = []\n",
    "for i in cum_freq_sqrt:\n",
    "    strata.append(round(i / strata_cut))\n",
    "        \n",
    "d = {'freq':pctl_freq,'sqrt_freq':pctl_freq_sqrt,\n",
    "     'cum_sqrt_freq':cum_freq_sqrt,'strata':strata}\n",
    "pctl_stats = pd.DataFrame(data=d)\n",
    "print pctl_stats\n",
    "               \n",
    "print \"\\nTotal Cumulative sqrt(pctl_freq): \",pctl_freq_sqrt.sum()\n",
    "print \"Strata Cutpoint (h=4): \",pctl_freq_sqrt.sum()/10"
   ]
  },
  {
   "cell_type": "code",
   "execution_count": 18,
   "metadata": {},
   "outputs": [
    {
     "name": "stdout",
     "output_type": "stream",
     "text": [
      "9762\n"
     ]
    }
   ],
   "source": [
    "#assigning rows to each strata\n",
    "strata_dict = dict(zip(pctl,pctl_stats.strata))\n",
    "\n",
    "strata_2 = []\n",
    "for i in range(len(df2.cumSales)):\n",
    "    strata_2.append(int(strata_dict.get(df2.pctl[i])))\n",
    "    \n",
    "print len(strata_2)"
   ]
  },
  {
   "cell_type": "code",
   "execution_count": 19,
   "metadata": {},
   "outputs": [],
   "source": [
    "df['strata_2'] = pd.Series(strata_2, index=df.index)"
   ]
  },
  {
   "cell_type": "code",
   "execution_count": 20,
   "metadata": {},
   "outputs": [
    {
     "name": "stdout",
     "output_type": "stream",
     "text": [
      "   stratum   N_h       N_h*S_h  N_h*S_h/sum(N_h*S_h)  \\\n",
      "0        1  2560  2.328536e+07              0.029733   \n",
      "1        3  1725  4.475844e+06              0.005715   \n",
      "2        4  1988  2.395574e+07              0.030589   \n",
      "3        5   707  3.076412e+06              0.003928   \n",
      "4        6  1099  1.500434e+07              0.019159   \n",
      "5        7   740  2.311884e+07              0.029521   \n",
      "6        8   410  2.346314e+07              0.029960   \n",
      "7        9   419  6.390716e+07              0.081604   \n",
      "8       10   114  6.028519e+08              0.769789   \n",
      "\n",
      "   samp*N_h*S_h/sum(N_h*S_h)  sample size  \n",
      "0                  14.866686           15  \n",
      "1                   2.857631            3  \n",
      "2                  15.294700           15  \n",
      "3                   1.964155            2  \n",
      "4                   9.579621           10  \n",
      "5                  14.760373           15  \n",
      "6                  14.980193           15  \n",
      "7                  40.801942           41  \n",
      "8                 384.894700          385  \n"
     ]
    }
   ],
   "source": [
    "neymanAlloc(df, 'strata_2', 500)"
   ]
  },
  {
   "cell_type": "markdown",
   "metadata": {},
   "source": [
    "# Determining Strata #3: Equal W_h S_h Method\n",
    "\n",
    "#### 10 Stratas"
   ]
  },
  {
   "cell_type": "code",
   "execution_count": 22,
   "metadata": {},
   "outputs": [
    {
     "name": "stdout",
     "output_type": "stream",
     "text": [
      "   coID       sales      inventory  strata_2\n",
      "0  6578  124.430200    6756.016916         1\n",
      "1  6531  164.460412    2429.508343         1\n",
      "2  4555  191.616081   46088.726420         1\n",
      "3  8497  210.496795    2990.580635         1\n",
      "4  2096  842.906821  194922.480200         1\n"
     ]
    }
   ],
   "source": [
    "df3 = df[['coID','sales','inventory','strata_2']].copy()\n",
    "print df3.head(5)"
   ]
  },
  {
   "cell_type": "code",
   "execution_count": 33,
   "metadata": {},
   "outputs": [],
   "source": [
    "def newStrata(df):    \n",
    "    N = df.coID.count()\n",
    "    N_h = df.groupby(['strata_2'], as_index=False).count()['coID']\n",
    "    s_h = df.groupby(['strata_2'], as_index=False).std()['sales']\n",
    "    \n",
    "    k = 1 / (1/s_h).sum()\n",
    "    \n",
    "    N_h_new = ((k / s_h) * N)\n",
    "    N_h_rounded = N_h_new.round().astype('int')\n",
    "    \n",
    "    d = {'N_h':N_h,'N_h_new':N_h_new,'N_h_rounded':N_h_rounded}\n",
    "    equal_Wh_Sh = pd.DataFrame(data=d)\n",
    "    \n",
    "    print(equal_Wh_Sh)\n",
    "    print \" N_h Sum: \",N_h.sum(),\"\\n N_h_new Sum: \",N_h_rounded.sum()\n",
    "    print \"Need to reduce new N_h sum by: \",N_h_rounded.sum()-N_h.sum()\n",
    "    \n",
    "    return N_h_rounded"
   ]
  },
  {
   "cell_type": "code",
   "execution_count": 34,
   "metadata": {},
   "outputs": [],
   "source": [
    "def updateDF(df, N_h):\n",
    "    strata = []\n",
    "    for i in range(len(N_h)):\n",
    "        for j in range(N_h[i]):\n",
    "            strata.append(i+1) \n",
    "    \n",
    "    df['strata_2'] = pd.Series(strata, index=df.index)\n",
    "    return df"
   ]
  },
  {
   "cell_type": "markdown",
   "metadata": {},
   "source": [
    "### Iteration #1"
   ]
  },
  {
   "cell_type": "code",
   "execution_count": 35,
   "metadata": {
    "scrolled": true
   },
   "outputs": [
    {
     "name": "stdout",
     "output_type": "stream",
     "text": [
      "    N_h      N_h_new  N_h_rounded\n",
      "0  2560  1144.645417         1145\n",
      "1  1725  4012.620420         4013\n",
      "2  1988   864.013649          864\n",
      "3   707  2392.703434         2393\n",
      "4  1099   762.596059          763\n",
      "5   740   333.257224          333\n",
      "6   410   181.933066          182\n",
      "7   419    68.261899           68\n",
      "8   114     1.968829            2\n",
      " N_h Sum:  9762 \n",
      " N_h_new Sum:  9763\n",
      "Need to reduce new N_h sum by:  1\n"
     ]
    }
   ],
   "source": [
    "N_h_new = newStrata(df3)"
   ]
  },
  {
   "cell_type": "code",
   "execution_count": 36,
   "metadata": {},
   "outputs": [
    {
     "data": {
      "text/plain": [
       "9762"
      ]
     },
     "execution_count": 36,
     "metadata": {},
     "output_type": "execute_result"
    }
   ],
   "source": [
    "N_h_new[4] -= 1\n",
    "N_h_new.sum()"
   ]
  },
  {
   "cell_type": "code",
   "execution_count": 37,
   "metadata": {
    "scrolled": true
   },
   "outputs": [],
   "source": [
    "df3 = updateDF(df3, N_h_new)"
   ]
  },
  {
   "cell_type": "markdown",
   "metadata": {},
   "source": [
    "### Iteration #2"
   ]
  },
  {
   "cell_type": "code",
   "execution_count": 38,
   "metadata": {
    "scrolled": true
   },
   "outputs": [
    {
     "name": "stdout",
     "output_type": "stream",
     "text": [
      "    N_h      N_h_new  N_h_rounded\n",
      "0  1145  2607.462897         2607\n",
      "1  4013  2028.186264         2028\n",
      "2   864  3768.806612         3769\n",
      "3  2393   802.260893          802\n",
      "4   762   284.981401          285\n",
      "5   333   196.464496          196\n",
      "6   182    64.742294           65\n",
      "7    68     8.253215            8\n",
      "8     2     0.841928            1\n",
      " N_h Sum:  9762 \n",
      " N_h_new Sum:  9761\n",
      "Need to reduce new N_h sum by:  -1\n"
     ]
    }
   ],
   "source": [
    "N_h_new = newStrata(df3)"
   ]
  },
  {
   "cell_type": "code",
   "execution_count": 39,
   "metadata": {},
   "outputs": [
    {
     "data": {
      "text/plain": [
       "9762"
      ]
     },
     "execution_count": 39,
     "metadata": {},
     "output_type": "execute_result"
    }
   ],
   "source": [
    "N_h_new[5] += 1\n",
    "N_h_new.sum()"
   ]
  },
  {
   "cell_type": "code",
   "execution_count": 40,
   "metadata": {
    "scrolled": true
   },
   "outputs": [],
   "source": [
    "df3 = updateDF(df3, N_h_new)"
   ]
  },
  {
   "cell_type": "markdown",
   "metadata": {},
   "source": [
    "### Iteration #3"
   ]
  },
  {
   "cell_type": "code",
   "execution_count": 44,
   "metadata": {},
   "outputs": [
    {
     "name": "stdout",
     "output_type": "stream",
     "text": [
      "    N_h      N_h_new  N_h_rounded\n",
      "0  2607  2955.325725         2955\n",
      "1  2028  5150.802412         5151\n",
      "2  3769   882.749866          883\n",
      "3   802   360.813654          361\n",
      "4   285   305.802532          306\n",
      "5   197    97.137197           97\n",
      "6    66     4.373593            4\n",
      "7     8     4.995020            5\n",
      " N_h Sum:  9762 \n",
      " N_h_new Sum:  9762\n",
      "Need to reduce new N_h sum by:  0\n"
     ]
    }
   ],
   "source": [
    "df3['strata_2'].iloc[-1] -= 1\n",
    "N_h_new = newStrata(df3)"
   ]
  },
  {
   "cell_type": "code",
   "execution_count": 45,
   "metadata": {},
   "outputs": [],
   "source": [
    "df3 = updateDF(df3, N_h_new)"
   ]
  },
  {
   "cell_type": "markdown",
   "metadata": {},
   "source": [
    "### Iteration #4"
   ]
  },
  {
   "cell_type": "code",
   "execution_count": 46,
   "metadata": {},
   "outputs": [
    {
     "name": "stdout",
     "output_type": "stream",
     "text": [
      "    N_h      N_h_new  N_h_rounded\n",
      "0  2955  5733.379024         5733\n",
      "1  5151  1614.930764         1615\n",
      "2   883  1125.213137         1125\n",
      "3   361   811.199110          811\n",
      "4   306   361.365384          361\n",
      "5    97    78.085515           78\n",
      "6     4    34.816209           35\n",
      "7     5     3.010857            3\n",
      " N_h Sum:  9762 \n",
      " N_h_new Sum:  9761\n",
      "Need to reduce new N_h sum by:  -1\n"
     ]
    }
   ],
   "source": [
    "N_h_new = newStrata(df3)"
   ]
  },
  {
   "cell_type": "code",
   "execution_count": 47,
   "metadata": {},
   "outputs": [
    {
     "data": {
      "text/plain": [
       "9762"
      ]
     },
     "execution_count": 47,
     "metadata": {},
     "output_type": "execute_result"
    }
   ],
   "source": [
    "N_h_new[4] += 1\n",
    "N_h_new.sum()"
   ]
  },
  {
   "cell_type": "code",
   "execution_count": 48,
   "metadata": {},
   "outputs": [],
   "source": [
    "df3 = updateDF(df3, N_h_new)"
   ]
  },
  {
   "cell_type": "markdown",
   "metadata": {},
   "source": [
    "### Iteration #5"
   ]
  },
  {
   "cell_type": "code",
   "execution_count": 49,
   "metadata": {},
   "outputs": [
    {
     "name": "stdout",
     "output_type": "stream",
     "text": [
      "    N_h      N_h_new  N_h_rounded\n",
      "0  5733  2466.219535         2466\n",
      "1  1615  3935.406885         3935\n",
      "2  1125  2428.758336         2429\n",
      "3   811   474.130732          474\n",
      "4   362   300.268337          300\n",
      "5    78   135.214952          135\n",
      "6    35    19.926503           20\n",
      "7     3     2.074719            2\n",
      " N_h Sum:  9762 \n",
      " N_h_new Sum:  9761\n",
      "Need to reduce new N_h sum by:  -1\n"
     ]
    }
   ],
   "source": [
    "N_h_new = newStrata(df3)"
   ]
  },
  {
   "cell_type": "code",
   "execution_count": 50,
   "metadata": {},
   "outputs": [
    {
     "data": {
      "text/plain": [
       "9762"
      ]
     },
     "execution_count": 50,
     "metadata": {},
     "output_type": "execute_result"
    }
   ],
   "source": [
    "N_h_new[1] += 1\n",
    "N_h_new.sum()"
   ]
  },
  {
   "cell_type": "code",
   "execution_count": 51,
   "metadata": {},
   "outputs": [],
   "source": [
    "df3 = updateDF(df3, N_h_new)"
   ]
  },
  {
   "cell_type": "markdown",
   "metadata": {},
   "source": [
    "### Iteration #6"
   ]
  },
  {
   "cell_type": "code",
   "execution_count": 52,
   "metadata": {},
   "outputs": [
    {
     "name": "stdout",
     "output_type": "stream",
     "text": [
      "    N_h      N_h_new  N_h_rounded\n",
      "0  2466  4987.571036         4988\n",
      "1  3936  2480.159284         2480\n",
      "2  2429  1122.054469         1122\n",
      "3   474   636.559003          637\n",
      "4   300   439.843068          440\n",
      "5   135    81.044572           81\n",
      "6    20    12.832694           13\n",
      "7     2     1.935873            2\n",
      " N_h Sum:  9762 \n",
      " N_h_new Sum:  9763\n",
      "Need to reduce new N_h sum by:  1\n"
     ]
    }
   ],
   "source": [
    "N_h_new = newStrata(df3)"
   ]
  },
  {
   "cell_type": "code",
   "execution_count": 53,
   "metadata": {},
   "outputs": [
    {
     "data": {
      "text/plain": [
       "9762"
      ]
     },
     "execution_count": 53,
     "metadata": {},
     "output_type": "execute_result"
    }
   ],
   "source": [
    "N_h_new[3] -= 1\n",
    "N_h_new.sum()"
   ]
  },
  {
   "cell_type": "code",
   "execution_count": 54,
   "metadata": {},
   "outputs": [],
   "source": [
    "df3 = updateDF(df3, N_h_new)"
   ]
  },
  {
   "cell_type": "markdown",
   "metadata": {},
   "source": [
    "### Iteration #7"
   ]
  },
  {
   "cell_type": "code",
   "execution_count": 55,
   "metadata": {},
   "outputs": [
    {
     "name": "stdout",
     "output_type": "stream",
     "text": [
      "    N_h      N_h_new  N_h_rounded\n",
      "0  4988  3637.886716         3638\n",
      "1  2480  2825.738691         2826\n",
      "2  1122  2321.719416         2322\n",
      "3   636   643.025777          643\n",
      "4   440   231.412194          231\n",
      "5    81    88.914115           89\n",
      "6    13    11.373774           11\n",
      "7     2     1.929316            2\n",
      " N_h Sum:  9762 \n",
      " N_h_new Sum:  9762\n",
      "Need to reduce new N_h sum by:  0\n"
     ]
    }
   ],
   "source": [
    "N_h_new = newStrata(df3)"
   ]
  },
  {
   "cell_type": "code",
   "execution_count": 56,
   "metadata": {},
   "outputs": [],
   "source": [
    "df3 = updateDF(df3, N_h_new)"
   ]
  },
  {
   "cell_type": "markdown",
   "metadata": {},
   "source": [
    "### Iteration #8"
   ]
  },
  {
   "cell_type": "code",
   "execution_count": 57,
   "metadata": {},
   "outputs": [
    {
     "name": "stdout",
     "output_type": "stream",
     "text": [
      "    N_h      N_h_new  N_h_rounded\n",
      "0  3638  4947.010396         4947\n",
      "1  2826  2731.238277         2731\n",
      "2  2322  1238.075513         1238\n",
      "3   643   426.893539          427\n",
      "4   231   324.764426          325\n",
      "5    89    80.904074           81\n",
      "6    11    11.149031           11\n",
      "7     2     1.964745            2\n",
      " N_h Sum:  9762 \n",
      " N_h_new Sum:  9762\n",
      "Need to reduce new N_h sum by:  0\n"
     ]
    }
   ],
   "source": [
    "N_h_new = newStrata(df3)"
   ]
  },
  {
   "cell_type": "code",
   "execution_count": 58,
   "metadata": {},
   "outputs": [],
   "source": [
    "df3 = updateDF(df3, N_h_new)"
   ]
  },
  {
   "cell_type": "markdown",
   "metadata": {},
   "source": [
    "### Iteration #9"
   ]
  },
  {
   "cell_type": "code",
   "execution_count": 59,
   "metadata": {},
   "outputs": [
    {
     "name": "stdout",
     "output_type": "stream",
     "text": [
      "    N_h      N_h_new  N_h_rounded\n",
      "0  4947  4420.191468         4420\n",
      "1  2731  2922.206844         2922\n",
      "2  1238  1274.855827         1275\n",
      "3   427   742.153704          742\n",
      "4   325   289.428086          289\n",
      "5    81    97.783608           98\n",
      "6    11    13.076116           13\n",
      "7     2     2.304347            2\n",
      " N_h Sum:  9762 \n",
      " N_h_new Sum:  9761\n",
      "Need to reduce new N_h sum by:  -1\n"
     ]
    }
   ],
   "source": [
    "N_h_new = newStrata(df3)"
   ]
  },
  {
   "cell_type": "code",
   "execution_count": 60,
   "metadata": {},
   "outputs": [
    {
     "data": {
      "text/plain": [
       "9762"
      ]
     },
     "execution_count": 60,
     "metadata": {},
     "output_type": "execute_result"
    }
   ],
   "source": [
    "N_h_new[4] += 1\n",
    "N_h_new.sum()"
   ]
  },
  {
   "cell_type": "code",
   "execution_count": 61,
   "metadata": {},
   "outputs": [],
   "source": [
    "df3 = updateDF(df3, N_h_new)"
   ]
  },
  {
   "cell_type": "markdown",
   "metadata": {},
   "source": [
    "### Iteration #10"
   ]
  },
  {
   "cell_type": "code",
   "execution_count": 62,
   "metadata": {},
   "outputs": [
    {
     "name": "stdout",
     "output_type": "stream",
     "text": [
      "    N_h      N_h_new  N_h_rounded\n",
      "0  4420  4411.607753         4412\n",
      "1  2922  2440.218222         2440\n",
      "2  1275  2007.048796         2007\n",
      "3   742   455.419781          455\n",
      "4   290   354.868991          355\n",
      "5    98    79.825009           80\n",
      "6    13    11.124428           11\n",
      "7     2     1.887020            2\n",
      " N_h Sum:  9762 \n",
      " N_h_new Sum:  9762\n",
      "Need to reduce new N_h sum by:  0\n"
     ]
    }
   ],
   "source": [
    "N_h_new = newStrata(df3)"
   ]
  },
  {
   "cell_type": "code",
   "execution_count": 63,
   "metadata": {},
   "outputs": [],
   "source": [
    "df3 = updateDF(df3, N_h_new)"
   ]
  },
  {
   "cell_type": "markdown",
   "metadata": {},
   "source": [
    "### Iteration #11"
   ]
  },
  {
   "cell_type": "code",
   "execution_count": 64,
   "metadata": {},
   "outputs": [
    {
     "name": "stdout",
     "output_type": "stream",
     "text": [
      "    N_h      N_h_new  N_h_rounded\n",
      "0  4412  4579.381114         4579\n",
      "1  2440  3095.940275         3096\n",
      "2  2007  1110.920799         1111\n",
      "3   455   644.112400          644\n",
      "4   355   235.438550          235\n",
      "5    80    83.161842           83\n",
      "6    11    11.090576           11\n",
      "7     2     1.954444            2\n",
      " N_h Sum:  9762 \n",
      " N_h_new Sum:  9761\n",
      "Need to reduce new N_h sum by:  -1\n"
     ]
    }
   ],
   "source": [
    "N_h_new = newStrata(df3)"
   ]
  },
  {
   "cell_type": "code",
   "execution_count": 65,
   "metadata": {},
   "outputs": [
    {
     "data": {
      "text/plain": [
       "9762"
      ]
     },
     "execution_count": 65,
     "metadata": {},
     "output_type": "execute_result"
    }
   ],
   "source": [
    "N_h_new[4] += 1\n",
    "N_h_new.sum()"
   ]
  },
  {
   "cell_type": "code",
   "execution_count": 66,
   "metadata": {},
   "outputs": [],
   "source": [
    "df3 = updateDF(df3, N_h_new)"
   ]
  },
  {
   "cell_type": "markdown",
   "metadata": {},
   "source": [
    "### Iteration #12"
   ]
  },
  {
   "cell_type": "code",
   "execution_count": 67,
   "metadata": {},
   "outputs": [
    {
     "name": "stdout",
     "output_type": "stream",
     "text": [
      "    N_h      N_h_new  N_h_rounded\n",
      "0  4579  4781.231882         4781\n",
      "1  3096  2468.391973         2468\n",
      "2  1111  1637.050660         1637\n",
      "3   644   465.790613          466\n",
      "4   236   304.379269          304\n",
      "5    83    90.798462           91\n",
      "6    11    12.206110           12\n",
      "7     2     2.151030            2\n",
      " N_h Sum:  9762 \n",
      " N_h_new Sum:  9761\n",
      "Need to reduce new N_h sum by:  -1\n"
     ]
    }
   ],
   "source": [
    "N_h_new = newStrata(df3)"
   ]
  },
  {
   "cell_type": "code",
   "execution_count": 68,
   "metadata": {},
   "outputs": [
    {
     "data": {
      "text/plain": [
       "9762"
      ]
     },
     "execution_count": 68,
     "metadata": {},
     "output_type": "execute_result"
    }
   ],
   "source": [
    "N_h_new[4] += 1\n",
    "N_h_new.sum()"
   ]
  },
  {
   "cell_type": "code",
   "execution_count": 69,
   "metadata": {},
   "outputs": [],
   "source": [
    "df3 = updateDF(df3, N_h_new)"
   ]
  },
  {
   "cell_type": "markdown",
   "metadata": {},
   "source": [
    "### Iteration #13"
   ]
  },
  {
   "cell_type": "code",
   "execution_count": 70,
   "metadata": {},
   "outputs": [
    {
     "name": "stdout",
     "output_type": "stream",
     "text": [
      "    N_h      N_h_new  N_h_rounded\n",
      "0  4781  4305.518437         4306\n",
      "1  2468  3219.488896         3219\n",
      "2  1637  1173.599929         1174\n",
      "3   466   630.354881          630\n",
      "4   305   330.547546          331\n",
      "5    91    88.295189           88\n",
      "6    12    12.101467           12\n",
      "7     2     2.093655            2\n",
      " N_h Sum:  9762 \n",
      " N_h_new Sum:  9762\n",
      "Need to reduce new N_h sum by:  0\n"
     ]
    }
   ],
   "source": [
    "N_h_new = newStrata(df3)"
   ]
  },
  {
   "cell_type": "code",
   "execution_count": 71,
   "metadata": {},
   "outputs": [],
   "source": [
    "df3 = updateDF(df3, N_h_new)"
   ]
  },
  {
   "cell_type": "markdown",
   "metadata": {},
   "source": [
    "### Iteration #14"
   ]
  },
  {
   "cell_type": "code",
   "execution_count": 72,
   "metadata": {},
   "outputs": [
    {
     "name": "stdout",
     "output_type": "stream",
     "text": [
      "    N_h      N_h_new  N_h_rounded\n",
      "0  4306  4735.049515         4735\n",
      "1  3219  2255.675728         2256\n",
      "2  1174  1844.047953         1844\n",
      "3   630   543.510708          544\n",
      "4   331   285.986858          286\n",
      "5    88    84.372461           84\n",
      "6    12    11.386771           11\n",
      "7     2     1.970007            2\n",
      " N_h Sum:  9762 \n",
      " N_h_new Sum:  9762\n",
      "Need to reduce new N_h sum by:  0\n"
     ]
    }
   ],
   "source": [
    "N_h_new = newStrata(df3)"
   ]
  },
  {
   "cell_type": "code",
   "execution_count": 73,
   "metadata": {},
   "outputs": [],
   "source": [
    "df3 = updateDF(df3, N_h_new)"
   ]
  },
  {
   "cell_type": "markdown",
   "metadata": {},
   "source": [
    "### Iteration #15"
   ]
  },
  {
   "cell_type": "code",
   "execution_count": 74,
   "metadata": {},
   "outputs": [
    {
     "name": "stdout",
     "output_type": "stream",
     "text": [
      "    N_h      N_h_new  N_h_rounded\n",
      "0  4735  4208.355163         4208\n",
      "1  2256  3435.084159         3435\n",
      "2  1844  1212.230627         1212\n",
      "3   544   528.932090          529\n",
      "4   286   279.455897          279\n",
      "5    84    84.534445           85\n",
      "6    11    11.398850           11\n",
      "7     2     2.008770            2\n",
      " N_h Sum:  9762 \n",
      " N_h_new Sum:  9761\n",
      "Need to reduce new N_h sum by:  -1\n"
     ]
    }
   ],
   "source": [
    "N_h_new = newStrata(df3)"
   ]
  },
  {
   "cell_type": "code",
   "execution_count": 75,
   "metadata": {},
   "outputs": [
    {
     "data": {
      "text/plain": [
       "9762"
      ]
     },
     "execution_count": 75,
     "metadata": {},
     "output_type": "execute_result"
    }
   ],
   "source": [
    "N_h_new[4] += 1\n",
    "N_h_new.sum()"
   ]
  },
  {
   "cell_type": "code",
   "execution_count": 76,
   "metadata": {},
   "outputs": [],
   "source": [
    "df3 = updateDF(df3, N_h_new)"
   ]
  },
  {
   "cell_type": "code",
   "execution_count": 77,
   "metadata": {},
   "outputs": [
    {
     "name": "stdout",
     "output_type": "stream",
     "text": [
      "   coID       sales      inventory  strata_1  strata_2  strata_3\n",
      "0  6578  124.430200    6756.016916         1         1         1\n",
      "1  6531  164.460412    2429.508343         1         1         1\n",
      "2  4555  191.616081   46088.726420         1         1         1\n",
      "3  8497  210.496795    2990.580635         1         1         1\n",
      "4  2096  842.906821  194922.480200         1         1         1\n"
     ]
    }
   ],
   "source": [
    "df['strata_3'] = pd.Series(df3['strata_2'], index=df.index)\n",
    "print df.head(5)"
   ]
  },
  {
   "cell_type": "code",
   "execution_count": 82,
   "metadata": {},
   "outputs": [],
   "source": [
    "df.to_csv('projectData2.csv')"
   ]
  },
  {
   "cell_type": "markdown",
   "metadata": {},
   "source": [
    "## Neyman Allocation for Methods"
   ]
  },
  {
   "cell_type": "code",
   "execution_count": 84,
   "metadata": {},
   "outputs": [],
   "source": [
    "def neymanAlloc(df, strata_field, sample_size):\n",
    "    neyman_alloc = pd.DataFrame()\n",
    "    neyman_alloc['stratum'] = df.groupby([strata_field], as_index = False).count()[strata_field]\n",
    "    neyman_alloc['N_h'] = df.groupby([strata_field], as_index = False).count()['coID']\n",
    "    neyman_alloc['N_h*S_h'] = df.groupby([strata_field], as_index = False).std()['sales'] * neyman_alloc['N_h']\n",
    "    neyman_alloc['N_h*S_h/sum(N_h*S_h)'] = neyman_alloc['N_h*S_h'] / neyman_alloc['N_h*S_h'].sum()\n",
    "    neyman_alloc['samp*N_h*S_h/sum(N_h*S_h)'] = sample_size * neyman_alloc['N_h*S_h/sum(N_h*S_h)']\n",
    "    neyman_alloc['sample size'] = neyman_alloc['samp*N_h*S_h/sum(N_h*S_h)'].round().astype('int')\n",
    "    \n",
    "    print neyman_alloc\n",
    "    return neyman_alloc['N_h'], neyman_alloc['sample size']"
   ]
  },
  {
   "cell_type": "markdown",
   "metadata": {},
   "source": [
    "### Method #1"
   ]
  },
  {
   "cell_type": "code",
   "execution_count": 85,
   "metadata": {
    "scrolled": false
   },
   "outputs": [
    {
     "name": "stdout",
     "output_type": "stream",
     "text": [
      "   stratum   N_h       N_h*S_h  N_h*S_h/sum(N_h*S_h)  \\\n",
      "0        1  4285  4.146658e+07              0.109948   \n",
      "1        2  1988  2.395574e+07              0.063518   \n",
      "2        3  1308  1.322527e+07              0.035067   \n",
      "3        4   919  1.366197e+07              0.036225   \n",
      "4        5   554  2.464330e+07              0.065341   \n",
      "5        6   314  1.848615e+07              0.049016   \n",
      "6        7   201  1.435766e+07              0.038069   \n",
      "7        8   125  4.080337e+07              0.108190   \n",
      "8        9    57  3.226548e+07              0.085552   \n",
      "9       10    11  1.542808e+08              0.409074   \n",
      "\n",
      "   samp*N_h*S_h/sum(N_h*S_h)  sample size  \n",
      "0                  54.974127           55  \n",
      "1                  31.759218           32  \n",
      "2                  17.533338           18  \n",
      "3                  18.112287           18  \n",
      "4                  32.670743           33  \n",
      "5                  24.507930           25  \n",
      "6                  19.034595           19  \n",
      "7                  54.094881           54  \n",
      "8                  42.775812           43  \n",
      "9                 204.537068          205  \n"
     ]
    }
   ],
   "source": [
    "strata_1_Nh, strata_1_neyman = neymanAlloc(df, 'strata_1', 500)"
   ]
  },
  {
   "cell_type": "code",
   "execution_count": 89,
   "metadata": {
    "scrolled": true
   },
   "outputs": [
    {
     "name": "stdout",
     "output_type": "stream",
     "text": [
      "0     55\n",
      "1     32\n",
      "2     18\n",
      "3     18\n",
      "4     33\n",
      "5     25\n",
      "6    128\n",
      "7    125\n",
      "8     57\n",
      "9     11\n",
      "Name: sample size, dtype: int64\n"
     ]
    }
   ],
   "source": [
    "for i in range(len(strata_1_Nh)-1,-1,-1):\n",
    "    if strata_1_Nh[i] < strata_1_neyman[i]:\n",
    "        strata_1_neyman[i-1] += strata_1_neyman[i] - strata_1_Nh[i]\n",
    "        strata_1_neyman[i] = strata_1_Nh[i]\n",
    "print strata_1_neyman"
   ]
  },
  {
   "cell_type": "markdown",
   "metadata": {},
   "source": [
    "### Method #2"
   ]
  },
  {
   "cell_type": "code",
   "execution_count": 90,
   "metadata": {},
   "outputs": [
    {
     "name": "stdout",
     "output_type": "stream",
     "text": [
      "   stratum   N_h       N_h*S_h  N_h*S_h/sum(N_h*S_h)  \\\n",
      "0        1  2560  2.328536e+07              0.029733   \n",
      "1        3  1725  4.475844e+06              0.005715   \n",
      "2        4  1988  2.395574e+07              0.030589   \n",
      "3        5   707  3.076412e+06              0.003928   \n",
      "4        6  1099  1.500434e+07              0.019159   \n",
      "5        7   740  2.311884e+07              0.029521   \n",
      "6        8   410  2.346314e+07              0.029960   \n",
      "7        9   419  6.390716e+07              0.081604   \n",
      "8       10   114  6.028519e+08              0.769789   \n",
      "\n",
      "   samp*N_h*S_h/sum(N_h*S_h)  sample size  \n",
      "0                  14.866686           15  \n",
      "1                   2.857631            3  \n",
      "2                  15.294700           15  \n",
      "3                   1.964155            2  \n",
      "4                   9.579621           10  \n",
      "5                  14.760373           15  \n",
      "6                  14.980193           15  \n",
      "7                  40.801942           41  \n",
      "8                 384.894700          385  \n"
     ]
    }
   ],
   "source": [
    "strata_2_Nh, strata_2_neyman = neymanAlloc(df, 'strata_2', 500)"
   ]
  },
  {
   "cell_type": "code",
   "execution_count": 92,
   "metadata": {},
   "outputs": [
    {
     "name": "stdout",
     "output_type": "stream",
     "text": [
      "0     15\n",
      "1      3\n",
      "2     15\n",
      "3      2\n",
      "4     10\n",
      "5     15\n",
      "6     15\n",
      "7    312\n",
      "8    114\n",
      "Name: sample size, dtype: int64\n"
     ]
    }
   ],
   "source": [
    "for i in range(len(strata_2_Nh)-1,-1,-1):\n",
    "    if strata_2_Nh[i] < strata_2_neyman[i]:\n",
    "        strata_2_neyman[i-1] += strata_2_neyman[i] - strata_2_Nh[i]\n",
    "        strata_2_neyman[i] = strata_2_Nh[i]\n",
    "print strata_2_neyman"
   ]
  },
  {
   "cell_type": "markdown",
   "metadata": {},
   "source": [
    "### Method #3"
   ]
  },
  {
   "cell_type": "code",
   "execution_count": 93,
   "metadata": {},
   "outputs": [
    {
     "name": "stdout",
     "output_type": "stream",
     "text": [
      "   stratum   N_h       N_h*S_h  N_h*S_h/sum(N_h*S_h)  \\\n",
      "0        1  4208  4.022307e+07              0.102352   \n",
      "1        2  3435  7.625276e+07              0.194033   \n",
      "2        3  1212  4.468617e+07              0.113708   \n",
      "3        4   529  4.682416e+07              0.119149   \n",
      "4        5   280  4.566994e+07              0.116212   \n",
      "5        6    85  4.734790e+07              0.120481   \n",
      "6        7    11  4.527419e+07              0.115205   \n",
      "7        8     2  4.671096e+07              0.118861   \n",
      "\n",
      "   samp*N_h*S_h/sum(N_h*S_h)  sample size  \n",
      "0                  51.175800           51  \n",
      "1                  97.016370           97  \n",
      "2                  56.854203           57  \n",
      "3                  59.574364           60  \n",
      "4                  58.105852           58  \n",
      "5                  60.240724           60  \n",
      "6                  57.602339           58  \n",
      "7                  59.430348           59  \n"
     ]
    }
   ],
   "source": [
    "strata_3_Nh, strata_3_neyman = neymanAlloc(df, 'strata_3', 500)"
   ]
  },
  {
   "cell_type": "code",
   "execution_count": 94,
   "metadata": {},
   "outputs": [
    {
     "name": "stdout",
     "output_type": "stream",
     "text": [
      "0     51\n",
      "1     97\n",
      "2     57\n",
      "3     60\n",
      "4    137\n",
      "5     85\n",
      "6     11\n",
      "7      2\n",
      "Name: sample size, dtype: int64\n"
     ]
    }
   ],
   "source": [
    "for i in range(len(strata_3_Nh)-1,-1,-1):\n",
    "    if strata_3_Nh[i] < strata_3_neyman[i]:\n",
    "        strata_3_neyman[i-1] += strata_3_neyman[i] - strata_3_Nh[i]\n",
    "        strata_3_neyman[i] = strata_3_Nh[i]\n",
    "print strata_3_neyman"
   ]
  }
 ],
 "metadata": {
  "kernelspec": {
   "display_name": "Python 3",
   "language": "python",
   "name": "python3"
  },
  "language_info": {
   "codemirror_mode": {
    "name": "ipython",
    "version": 2
   },
   "file_extension": ".py",
   "mimetype": "text/x-python",
   "name": "python",
   "nbconvert_exporter": "python",
   "pygments_lexer": "ipython2",
   "version": "2.7.14"
  }
 },
 "nbformat": 4,
 "nbformat_minor": 2
}
