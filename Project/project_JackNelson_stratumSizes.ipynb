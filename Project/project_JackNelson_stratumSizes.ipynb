{
 "cells": [
  {
   "cell_type": "code",
   "execution_count": 1,
   "metadata": {},
   "outputs": [
    {
     "name": "stdout",
     "output_type": "stream",
     "text": [
      "<class 'pandas.core.frame.DataFrame'>\n",
      "RangeIndex: 9762 entries, 0 to 9761\n",
      "Data columns (total 7 columns):\n",
      "Unnamed: 0    9762 non-null int64\n",
      "coID          9762 non-null int64\n",
      "sales         9762 non-null float64\n",
      "inventory     9762 non-null float64\n",
      "strata_1      9762 non-null int64\n",
      "strata_2      9762 non-null int64\n",
      "strata_3      9762 non-null int64\n",
      "dtypes: float64(2), int64(5)\n",
      "memory usage: 533.9 KB\n"
     ]
    }
   ],
   "source": [
    "import pandas as pd\n",
    "import numpy as np\n",
    "import itertools\n",
    "pd.options.mode.chained_assignment = None\n",
    "\n",
    "#read in csv file\n",
    "df = pd.read_csv('projectData2.csv')\n",
    "df.info()"
   ]
  },
  {
   "cell_type": "code",
   "execution_count": 2,
   "metadata": {},
   "outputs": [
    {
     "name": "stdout",
     "output_type": "stream",
     "text": [
      "strata_1\n",
      "1     4285\n",
      "2     1988\n",
      "3     1308\n",
      "4      919\n",
      "5      554\n",
      "6      314\n",
      "7      201\n",
      "8      125\n",
      "9       57\n",
      "10      11\n",
      "Name: sales, dtype: int64\n"
     ]
    }
   ],
   "source": [
    "pctl_freq = df.groupby(['strata_1'])['sales'].count()\n",
    "print pctl_freq"
   ]
  },
  {
   "cell_type": "code",
   "execution_count": 3,
   "metadata": {},
   "outputs": [
    {
     "name": "stdout",
     "output_type": "stream",
     "text": [
      "strata_2\n",
      "1     2560\n",
      "3     1725\n",
      "4     1988\n",
      "5      707\n",
      "6     1099\n",
      "7      740\n",
      "8      410\n",
      "9      419\n",
      "10     114\n",
      "Name: sales, dtype: int64\n"
     ]
    }
   ],
   "source": [
    "pctl_freq = df.groupby(['strata_2'])['sales'].count()\n",
    "print pctl_freq"
   ]
  },
  {
   "cell_type": "code",
   "execution_count": 4,
   "metadata": {},
   "outputs": [
    {
     "name": "stdout",
     "output_type": "stream",
     "text": [
      "strata_3\n",
      "1    4208\n",
      "2    3435\n",
      "3    1212\n",
      "4     529\n",
      "5     280\n",
      "6      85\n",
      "7      11\n",
      "8       2\n",
      "Name: sales, dtype: int64\n"
     ]
    }
   ],
   "source": [
    "pctl_freq = df.groupby(['strata_3'])['sales'].count()\n",
    "print pctl_freq"
   ]
  },
  {
   "cell_type": "code",
   "execution_count": 5,
   "metadata": {
    "scrolled": true
   },
   "outputs": [
    {
     "name": "stdout",
     "output_type": "stream",
     "text": [
      "<class 'pandas.core.frame.DataFrame'>\n",
      "RangeIndex: 9762 entries, 0 to 9761\n",
      "Data columns (total 7 columns):\n",
      "coID              9762 non-null int64\n",
      "sales             9762 non-null float64\n",
      "inventory         9762 non-null float64\n",
      "cum_inventory     9762 non-null float64\n",
      "Cum_Stratum       9762 non-null int64\n",
      "E_Stratum_3       9762 non-null int64\n",
      "Cum_fy_Stratum    9762 non-null int64\n",
      "dtypes: float64(3), int64(4)\n",
      "memory usage: 533.9 KB\n"
     ]
    }
   ],
   "source": [
    "df2 = pd.read_csv('projectData_strata.csv')\n",
    "df2.info()"
   ]
  },
  {
   "cell_type": "code",
   "execution_count": 22,
   "metadata": {},
   "outputs": [
    {
     "name": "stdout",
     "output_type": "stream",
     "text": [
      "Cum_Stratum\n",
      "1     5728\n",
      "2     1680\n",
      "3     1002\n",
      "4      600\n",
      "5      361\n",
      "6      202\n",
      "7      122\n",
      "8       51\n",
      "9       14\n",
      "10       2\n",
      "Name: inventory, dtype: int64\n"
     ]
    }
   ],
   "source": [
    "pctl_freq2 = df2.groupby(['Cum_Stratum'])['inventory'].count()\n",
    "print pctl_freq2"
   ]
  },
  {
   "cell_type": "code",
   "execution_count": 32,
   "metadata": {},
   "outputs": [
    {
     "name": "stdout",
     "output_type": "stream",
     "text": [
      "Cum_fy_Stratum\n",
      "1    4215\n",
      "2    1513\n",
      "3     963\n",
      "4     717\n",
      "5     556\n",
      "6     781\n",
      "7     471\n",
      "8     357\n",
      "9     189\n",
      "Name: inventory, dtype: int64\n"
     ]
    }
   ],
   "source": [
    "pctl_freq2 = df2.groupby(['Cum_fy_Stratum'])['inventory'].count()\n",
    "print pctl_freq2"
   ]
  },
  {
   "cell_type": "code",
   "execution_count": 9,
   "metadata": {},
   "outputs": [
    {
     "name": "stdout",
     "output_type": "stream",
     "text": [
      "E_Stratum_3\n",
      "1    3368\n",
      "2    2473\n",
      "3    1535\n",
      "4     842\n",
      "5     556\n",
      "6     364\n",
      "7     241\n",
      "8     381\n",
      "9       2\n",
      "Name: sales, dtype: int64\n"
     ]
    }
   ],
   "source": [
    "pctl_freq2 = df2.groupby(['E_Stratum_3'])['sales'].count()\n",
    "print pctl_freq2"
   ]
  },
  {
   "cell_type": "code",
   "execution_count": null,
   "metadata": {},
   "outputs": [],
   "source": []
  }
 ],
 "metadata": {
  "kernelspec": {
   "display_name": "Python 3",
   "language": "python",
   "name": "python3"
  },
  "language_info": {
   "codemirror_mode": {
    "name": "ipython",
    "version": 2
   },
   "file_extension": ".py",
   "mimetype": "text/x-python",
   "name": "python",
   "nbconvert_exporter": "python",
   "pygments_lexer": "ipython2",
   "version": "2.7.14"
  }
 },
 "nbformat": 4,
 "nbformat_minor": 2
}
