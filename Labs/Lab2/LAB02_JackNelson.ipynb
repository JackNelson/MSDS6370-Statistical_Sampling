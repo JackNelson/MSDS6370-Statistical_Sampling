{
 "cells": [
  {
   "cell_type": "markdown",
   "metadata": {},
   "source": [
    "<h2><center> MSDS 6370: Statistical Sampling </center></h2>\n",
    "<h3><center> Lab 2 <br> Jack Nelson </center></h3> "
   ]
  },
  {
   "cell_type": "markdown",
   "metadata": {},
   "source": [
    "### Exercise 1"
   ]
  },
  {
   "cell_type": "code",
   "execution_count": 29,
   "metadata": {},
   "outputs": [
    {
     "data": {
      "text/plain": [
       "count    25.000000\n",
       "mean     48.200000\n",
       "std      11.940826\n",
       "min      23.000000\n",
       "25%      37.000000\n",
       "50%      54.000000\n",
       "75%      56.000000\n",
       "max      62.000000\n",
       "Name: Response, dtype: float64"
      ]
     },
     "execution_count": 29,
     "metadata": {},
     "output_type": "execute_result"
    }
   ],
   "source": [
    "import pandas as pd\n",
    "email_sample = pd.read_csv('email_survey.csv')\n",
    "\n",
    "# Town 1 Sample Summary Statistics\n",
    "email_town1 = email_sample[email_sample['Town'] == 1]\n",
    "email_town1['Response'].describe()"
   ]
  },
  {
   "cell_type": "code",
   "execution_count": 30,
   "metadata": {},
   "outputs": [
    {
     "data": {
      "text/plain": [
       "count    25.000000\n",
       "mean     39.760000\n",
       "std       9.430801\n",
       "min      23.000000\n",
       "25%      32.000000\n",
       "50%      40.000000\n",
       "75%      47.000000\n",
       "max      56.000000\n",
       "Name: Response, dtype: float64"
      ]
     },
     "execution_count": 30,
     "metadata": {},
     "output_type": "execute_result"
    }
   ],
   "source": [
    "# Town 2 Sample Summary Statistics\n",
    "email_town2 = email_sample[email_sample['Town'] == 2]\n",
    "email_town2['Response'].describe()"
   ]
  },
  {
   "cell_type": "markdown",
   "metadata": {},
   "source": [
    "### Exercise 2  \n",
    "  \n",
    "No, these are not good estimates of the means for each town.  Samples were taken solely based on those who responded to the email survey but certain districts have varying percentages of the population with email.  Coverage bias was injected by excluding those without access to email and selection bias was introduced since certain districts might be over/under represented based on their percentage of the population with email compared to other districts in that town.  The samples taken are not representative of the population where all residents of a town have an equal chance of selection. "
   ]
  },
  {
   "cell_type": "code",
   "execution_count": 31,
   "metadata": {
    "scrolled": true
   },
   "outputs": [
    {
     "name": "stdout",
     "output_type": "stream",
     "text": [
      "   Town  District  Perc_email\n",
      "0     1         1         0.4\n",
      "1     1         2         0.5\n",
      "2     1         3         0.7\n",
      "3     1         4         0.8\n",
      "4     1         5         0.3\n",
      "5     2         1         0.2\n",
      "6     2         2         0.4\n",
      "7     2         3         0.3\n",
      "8     2         4         0.6\n",
      "9     2         5         0.8\n"
     ]
    }
   ],
   "source": [
    "district_email_perc = pd.read_csv('email_rates.csv')\n",
    "print district_email_perc"
   ]
  },
  {
   "cell_type": "markdown",
   "metadata": {},
   "source": [
    "### Exercise 3  \n",
    "  \n",
    "Weighting is done by using the percentage of the population with email access.  It does not correct for coverage bias but it does correct for selection bias assuming all districts in the town contain the same number of people and each vote per district is equal to other districts.  \n",
    "\n",
    "$$\\frac{\\sum_{i=1}^{n}{w_iy_i}}{\\sum_{i=1}^{n}{w_i}} $$\n",
    "*$w_i$= district percentage of population with email for ith respondant*  \n",
    "*$y_i$= suggested education budget ($k) for ith respondant*"
   ]
  },
  {
   "cell_type": "code",
   "execution_count": 36,
   "metadata": {},
   "outputs": [
    {
     "data": {
      "text/plain": [
       "51.620915032679733"
      ]
     },
     "execution_count": 36,
     "metadata": {},
     "output_type": "execute_result"
    }
   ],
   "source": [
    "email_town1 = email_town1.merge(district_email_perc, on = ['Town', 'District'])\n",
    "(email_town1.Response * email_town1['Perc_email']).sum() / email_town1['Perc_email'].sum()"
   ]
  },
  {
   "cell_type": "code",
   "execution_count": 37,
   "metadata": {},
   "outputs": [
    {
     "data": {
      "text/plain": [
       "40.089552238805965"
      ]
     },
     "execution_count": 37,
     "metadata": {},
     "output_type": "execute_result"
    }
   ],
   "source": [
    "email_town2 = email_town2.merge(district_email_perc, on = ['Town', 'District'])\n",
    "(email_town2.Response * email_town2['Perc_email']).sum() / email_town2['Perc_email'].sum()"
   ]
  },
  {
   "cell_type": "markdown",
   "metadata": {},
   "source": [
    "### Exercise 4  \n",
    "  \n",
    "Assuming all districts in the town contain the same number of people and each vote per district is equal to other districts, a face-to-face survey allows for each unit in the population to have an equal chance of selection.  The selection bias is not present."
   ]
  },
  {
   "cell_type": "code",
   "execution_count": 39,
   "metadata": {},
   "outputs": [
    {
     "data": {
      "text/plain": [
       "count    500.000000\n",
       "mean      45.172000\n",
       "std       12.408964\n",
       "min       17.000000\n",
       "25%       35.000000\n",
       "50%       44.500000\n",
       "75%       56.000000\n",
       "max       75.000000\n",
       "Name: Response, dtype: float64"
      ]
     },
     "execution_count": 39,
     "metadata": {},
     "output_type": "execute_result"
    }
   ],
   "source": [
    "inperson_sample = pd.read_csv('face_survey.csv')\n",
    "\n",
    "# Town 1 Sample Summary Statistics\n",
    "inperson_town1 = inperson_sample[inperson_sample['Town'] == 1]\n",
    "inperson_town1['Response'].describe()"
   ]
  },
  {
   "cell_type": "code",
   "execution_count": 40,
   "metadata": {},
   "outputs": [
    {
     "data": {
      "text/plain": [
       "count    2000.000000\n",
       "mean       43.187000\n",
       "std        10.522518\n",
       "min        15.000000\n",
       "25%        35.000000\n",
       "50%        44.000000\n",
       "75%        51.000000\n",
       "max        72.000000\n",
       "Name: Response, dtype: float64"
      ]
     },
     "execution_count": 40,
     "metadata": {},
     "output_type": "execute_result"
    }
   ],
   "source": [
    "# Town 1 Sample Summary Statistics\n",
    "inperson_town2 = inperson_sample[inperson_sample['Town'] == 2]\n",
    "inperson_town2['Response'].describe()"
   ]
  },
  {
   "cell_type": "markdown",
   "metadata": {},
   "source": [
    "### Exercise 5\n",
    "For Town 1 the unweighted sample mean was 48.2k but later corrected to 51.6k after weighting based on percentage with emails in each district, raising the mean by about 3.5k.  However, the face-to-face survey showed that a sample mean representative of the population is actually lower at 45.2k.  \n",
    "  \n",
    "For Town 2 the unweighted sample mean was 39.8 but later corrected to 40.1k, slightly raising the sample mean by 0.3k.  However, the face-to-face survey showed that a sample mean representative of the population is actually even higher at 43.2k."
   ]
  },
  {
   "cell_type": "markdown",
   "metadata": {},
   "source": [
    "### Exercise 6"
   ]
  },
  {
   "cell_type": "code",
   "execution_count": 48,
   "metadata": {},
   "outputs": [
    {
     "data": {
      "text/plain": [
       "Text(0.5,0,u'Education Budget ($k)')"
      ]
     },
     "execution_count": 48,
     "metadata": {},
     "output_type": "execute_result"
    },
    {
     "data": {
      "image/png": "[encoded data removed]",
      "text/plain": [
       "<matplotlib.figure.Figure at 0x118a8e250>"
      ]
     },
     "metadata": {},
     "output_type": "display_data"
    }
   ],
   "source": [
    "import matplotlib.pyplot as plt\n",
    "%matplotlib inline\n",
    "\n",
    "f, ((ax1, ax2)) = plt.subplots(2, 1, sharex = 'col')\n",
    "ax1.hist(email_town1['Response'], range = (20, 65), bins = 8)\n",
    "ax1.set_title('Email Survey Sample Response Distribution')\n",
    "ax1.set_ylabel('Town 1')\n",
    "ax2.hist(email_town2['Response'], range = (20, 65), bins = 8)\n",
    "ax2.set_ylabel('Town 2')\n",
    "ax2.set_xlabel('Education Budget ($k)')"
   ]
  },
  {
   "cell_type": "markdown",
   "metadata": {},
   "source": [
    "Town 1 appears to have to left-skewed bell-shaped distribution while Town 2 has a much more centered bell-shaped distribution."
   ]
  },
  {
   "cell_type": "markdown",
   "metadata": {},
   "source": [
    "### Exercise 7"
   ]
  },
  {
   "cell_type": "code",
   "execution_count": 49,
   "metadata": {},
   "outputs": [
    {
     "data": {
      "text/plain": [
       "Text(0.5,0,u'Education Budget ($k)')"
      ]
     },
     "execution_count": 49,
     "metadata": {},
     "output_type": "execute_result"
    },
    {
     "data": {
      "image/png": "[encoded data removed]",
      "text/plain": [
       "<matplotlib.figure.Figure at 0x118bed610>"
      ]
     },
     "metadata": {},
     "output_type": "display_data"
    }
   ],
   "source": [
    "f, ((ax1, ax2)) = plt.subplots(2, 1, sharex = 'col')\n",
    "ax1.hist(inperson_town1['Response'], range = (20, 65), bins = 8)\n",
    "ax1.set_title('In-Person Survey Sample Response Distribution')\n",
    "ax1.set_ylabel('Town 1')\n",
    "ax2.hist(inperson_town2['Response'], range = (20, 65), bins = 8)\n",
    "ax2.set_ylabel('Town 2')\n",
    "ax2.set_xlabel('Education Budget ($k)')"
   ]
  },
  {
   "cell_type": "markdown",
   "metadata": {},
   "source": [
    "### Exercise 8  \n",
    "  \n",
    "For Town 1, when only including those with email, there appears to be a distribution relative of a normal distribution with some skewing toward the left.  However, after including both those with email and those without, the distribution appears to be much more uniform.  \n",
    "\n",
    "For Town 2, both histograms resemble a bell shaped distribution, the face-to-face response is only slightly wider.  This correlates with the changes in the mean between the two samples since they were close to one another.  \n",
    "\n",
    "The in-person survey is a better estimate of the population mean for both towns.  As observed in Town 1, those without email were not represented in the sample causing the sample mean to shift to the right, over estimating the true population mean.  Eliminating the coverage bias in the on-person survey solves this potential vulnerability."
   ]
  }
 ],
 "metadata": {
  "kernelspec": {
   "display_name": "Python 3",
   "language": "python",
   "name": "python3"
  },
  "language_info": {
   "codemirror_mode": {
    "name": "ipython",
    "version": 2
   },
   "file_extension": ".py",
   "mimetype": "text/x-python",
   "name": "python",
   "nbconvert_exporter": "python",
   "pygments_lexer": "ipython2",
   "version": "2.7.14"
  }
 },
 "nbformat": 4,
 "nbformat_minor": 2
}
