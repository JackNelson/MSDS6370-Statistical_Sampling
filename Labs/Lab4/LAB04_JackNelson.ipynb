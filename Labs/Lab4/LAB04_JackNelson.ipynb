{
 "cells": [
  {
   "cell_type": "markdown",
   "metadata": {},
   "source": [
    "<h2><center> MSDS 6370: Statistical Sampling </center></h2>\n",
    "<h3><center> Lab 4 <br> Jack Nelson </center></h3> "
   ]
  },
  {
   "cell_type": "code",
   "execution_count": 3,
   "metadata": {
    "scrolled": true
   },
   "outputs": [
    {
     "name": "stdout",
     "output_type": "stream",
     "text": [
      "    industry  UnitId      mos  stratum    Sales\n",
      "0       XXX2       1    61650        1    50008\n",
      "1       XXX2       2    58228        1    62032\n",
      "2       XXX2       3     4106        1     5961\n",
      "3       XXX2       4    29866        1    36993\n",
      "4       XXX2       5    29861        1    37744\n",
      "5       XXX2       6    29059        1    20036\n",
      "6       XXX2       7    13483        1    13437\n",
      "7       XXX2       8    30490        1    34508\n",
      "8       XXX2       9    26027        1    26047\n",
      "9       XXX2      10    52683        1    53343\n",
      "10      XXX2      11    59472        1    75145\n",
      "11      XXX2      12    49453        1    48932\n",
      "12      XXX2      13    46306        1    45934\n",
      "13      XXX2      14    52570        1    55123\n",
      "14      XXX2      15    52740        1    62654\n",
      "15      XXX2      16    61650        1    50392\n",
      "16      XXX2      17    61668        1    65992\n",
      "17      XXX2      18    51357        1    26828\n",
      "18      XXX2      19    62118        1    81533\n",
      "19      XXX2      20    64314        1    71369\n",
      "20      XXX2      21    52869        1    78552\n",
      "21      XXX2      22    39352        1    51908\n",
      "22      XXX2      23    61411        1    65210\n",
      "23      XXX2      24    57714        1    61206\n",
      "24      XXX2      25    49444        1    66336\n",
      "25      XXX2      26    62183        1    70980\n",
      "26      XXX2      27    54662        1    55681\n",
      "27      XXX2      28    34653        1    32896\n",
      "28      XXX2      29    54200        1    59255\n",
      "29      XXX2      30    23876        1    26715\n",
      "..       ...     ...      ...      ...      ...\n",
      "343     XXX2     344   730169        5   743414\n",
      "344     XXX2     345   779425        5   841586\n",
      "345     XXX2     346   770184        5   814499\n",
      "346     XXX2     347   809659        5   817088\n",
      "347     XXX2     348   958357        5   980732\n",
      "348     XXX2     349   767578        5   737019\n",
      "349     XXX2     350   899452        5   890985\n",
      "350     XXX2     351   777722        5   854711\n",
      "351     XXX2     352   759668        5   788870\n",
      "352     XXX2     353   739599        5   692934\n",
      "353     XXX2     354  1009058        5   893825\n",
      "354     XXX2     355   689655        5   708087\n",
      "355     XXX2     356   841618        5   886327\n",
      "356     XXX2     357   734820        5   734246\n",
      "357     XXX2     358   759196        5   750892\n",
      "358     XXX2     359   826831        5   840493\n",
      "359     XXX2     360   712141        5   712646\n",
      "360     XXX2     361   723130        5   736335\n",
      "361     XXX2     362   937070        5   834304\n",
      "362     XXX2     363   632217        5   671566\n",
      "363     XXX2     364   844092        5   737419\n",
      "364     XXX2     365  1041617        5  1043525\n",
      "365     XXX2     366   929355        5   904851\n",
      "366     XXX2     367   726707        5   651317\n",
      "367     XXX2     368   689099        5   661133\n",
      "368     XXX2     369   833606        5   631101\n",
      "369     XXX2     370   789932        5   769914\n",
      "370     XXX2     371   771717        5   611380\n",
      "371     XXX2     372   676290        5   675395\n",
      "372     XXX2     373   737105        5   933350\n",
      "\n",
      "[373 rows x 5 columns]\n"
     ]
    }
   ],
   "source": [
    "import pandas as pd\n",
    "import numpy as np\n",
    "\n",
    "sales = pd.read_csv('industry_sales.csv')\n",
    "print sales "
   ]
  },
  {
   "cell_type": "markdown",
   "metadata": {},
   "source": [
    "### Table 1: Proportion allocation with sample size 50"
   ]
  },
  {
   "cell_type": "code",
   "execution_count": 47,
   "metadata": {},
   "outputs": [
    {
     "name": "stdout",
     "output_type": "stream",
     "text": [
      "   stratum  N_h     N_h/N   50*N_h/N  sample size\n",
      "0        1  141  0.378016  18.900804         19.0\n",
      "1        2  100  0.268097  13.404826         13.0\n",
      "2        3   63  0.168901   8.445040          9.0\n",
      "3        4   38  0.101877   5.093834          5.0\n",
      "4        5   31  0.083110   4.155496          4.0\n"
     ]
    },
    {
     "name": "stderr",
     "output_type": "stream",
     "text": [
      "/Users/JackNelson/anaconda2/lib/python2.7/site-packages/ipykernel_launcher.py:9: SettingWithCopyWarning: \n",
      "A value is trying to be set on a copy of a slice from a DataFrame\n",
      "\n",
      "See the caveats in the documentation: http://pandas.pydata.org/pandas-docs/stable/indexing.html#indexing-view-versus-copy\n",
      "  if __name__ == '__main__':\n"
     ]
    }
   ],
   "source": [
    "prop_alloc = pd.DataFrame()\n",
    "prop_alloc['stratum'] = sales.groupby(['stratum'], as_index = False).count()['stratum']\n",
    "prop_alloc['N_h'] = sales.groupby(['stratum'], as_index = False).count()['UnitId']\n",
    "prop_alloc['N_h/N'] = prop_alloc['N_h'] / sales['UnitId'].count()\n",
    "prop_alloc['50*N_h/N'] = prop_alloc['N_h/N'] * 50\n",
    "prop_alloc['sample size'] = prop_alloc['50*N_h/N'].round()\n",
    "\n",
    "#adding 1 unit to sample size with largest 50*N_h/N value (stratum 3) to have n=3\n",
    "prop_alloc['sample size'][2] = prop_alloc['sample size'][2] + 1\n",
    "\n",
    "print prop_alloc"
   ]
  },
  {
   "cell_type": "markdown",
   "metadata": {},
   "source": [
    "### Table 2: Neyman allocation with sample size 50"
   ]
  },
  {
   "cell_type": "code",
   "execution_count": 50,
   "metadata": {
    "scrolled": true
   },
   "outputs": [
    {
     "name": "stdout",
     "output_type": "stream",
     "text": [
      "   stratum       N_h*S_h  N_h*S_h/sum(N_h*S_h)  50*N_h*S_h/sum(N_h*S_h)  \\\n",
      "0        1  2.458416e+06              0.140231                 7.011530   \n",
      "1        2  3.772748e+06              0.215201                10.760074   \n",
      "2        3  4.734638e+06              0.270069                13.503432   \n",
      "3        4  3.287098e+06              0.187499                 9.374974   \n",
      "4        5  3.278338e+06              0.187000                 9.349990   \n",
      "\n",
      "   sample size  \n",
      "0          7.0  \n",
      "1         11.0  \n",
      "2         14.0  \n",
      "3          9.0  \n",
      "4          9.0  \n"
     ]
    }
   ],
   "source": [
    "neyman_alloc = pd.DataFrame()\n",
    "neyman_alloc['stratum'] = prop_alloc['stratum']\n",
    "neyman_alloc['N_h*S_h'] = sales.groupby(['stratum'], as_index = False).std()['Sales'] * prop_alloc['N_h']\n",
    "neyman_alloc['N_h*S_h/sum(N_h*S_h)'] = neyman_alloc['N_h*S_h'] / neyman_alloc['N_h*S_h'].sum()\n",
    "neyman_alloc['50*N_h*S_h/sum(N_h*S_h)'] = 50 * neyman_alloc['N_h*S_h/sum(N_h*S_h)']\n",
    "neyman_alloc['sample size'] = neyman_alloc['50*N_h*S_h/sum(N_h*S_h)'].round()\n",
    "\n",
    "print neyman_alloc"
   ]
  },
  {
   "cell_type": "markdown",
   "metadata": {},
   "source": [
    "### Table 3: Neyman allocation with sample size 50 based on measure of size"
   ]
  },
  {
   "cell_type": "code",
   "execution_count": 56,
   "metadata": {},
   "outputs": [
    {
     "name": "stdout",
     "output_type": "stream",
     "text": [
      "   stratum     MOS_h  MOS_h/sum(MOS_h)  50*MOS_h/sum(MOS_h)  sample size\n",
      "0        1   4599050          0.063172             3.158601          3.0\n",
      "1        2  10650570          0.146295             7.314749          7.0\n",
      "2        3  15590567          0.214150            10.707510         11.0\n",
      "3        4  17290210          0.237496            11.874815         12.0\n",
      "4        5  24671620          0.338886            16.944324         17.0\n"
     ]
    }
   ],
   "source": [
    "neyman_mos = pd.DataFrame()\n",
    "neyman_mos['stratum'] = prop_alloc['stratum']\n",
    "neyman_mos['MOS_h'] = sales.groupby(['stratum'], as_index = False).sum()['mos']\n",
    "neyman_mos['MOS_h/sum(MOS_h)'] = neyman_mos['MOS_h'] / neyman_mos['MOS_h'].sum()\n",
    "neyman_mos['50*MOS_h/sum(MOS_h)'] = 50 * neyman_mos['MOS_h/sum(MOS_h)']\n",
    "neyman_mos['sample size'] = neyman_mos['50*MOS_h/sum(MOS_h)'].round()\n",
    "\n",
    "print neyman_mos"
   ]
  }
 ],
 "metadata": {
  "kernelspec": {
   "display_name": "Python 3",
   "language": "python",
   "name": "python3"
  },
  "language_info": {
   "codemirror_mode": {
    "name": "ipython",
    "version": 2
   },
   "file_extension": ".py",
   "mimetype": "text/x-python",
   "name": "python",
   "nbconvert_exporter": "python",
   "pygments_lexer": "ipython2",
   "version": "2.7.14"
  }
 },
 "nbformat": 4,
 "nbformat_minor": 2
}
