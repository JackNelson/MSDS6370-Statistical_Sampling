{
 "cells": [
  {
   "cell_type": "markdown",
   "metadata": {},
   "source": [
    "<h2><center> MSDS 6370: Statistical Sampling </center></h2>\n",
    "<h3><center> Lab 3 <br> Jack Nelson </center></h3> "
   ]
  },
  {
   "cell_type": "markdown",
   "metadata": {},
   "source": [
    "### Exercise 1: Question 1"
   ]
  },
  {
   "cell_type": "code",
   "execution_count": 1,
   "metadata": {},
   "outputs": [
    {
     "name": "stdout",
     "output_type": "stream",
     "text": [
      "   Taxpayer  Actual_Income  Reported_Income\n",
      "0         1             60               50\n",
      "1         2             72               56\n",
      "2         3             68               66\n",
      "3         4             94               76\n",
      "4         5            102              100\n",
      "5         6            116              112\n",
      "6         7            130              110\n",
      "7         8            200              175\n"
     ]
    }
   ],
   "source": [
    "import pandas as pd\n",
    "import numpy as np\n",
    "\n",
    "taxpayers = pd.read_csv('taxpayer_data.csv')\n",
    "print taxpayers "
   ]
  },
  {
   "cell_type": "code",
   "execution_count": 2,
   "metadata": {
    "scrolled": false
   },
   "outputs": [
    {
     "name": "stdout",
     "output_type": "stream",
     "text": [
      "     Mean  Sample  Variance\n",
      "0    66.0  [1, 2]      36.0\n",
      "1    64.0  [1, 3]      16.0\n",
      "2    77.0  [1, 4]     289.0\n",
      "3    81.0  [1, 5]     441.0\n",
      "4    88.0  [1, 6]     784.0\n",
      "5    95.0  [1, 7]    1225.0\n",
      "6    70.0  [2, 3]       4.0\n",
      "7    83.0  [2, 4]     121.0\n",
      "8    87.0  [2, 5]     225.0\n",
      "9    94.0  [2, 6]     484.0\n",
      "10  101.0  [2, 7]     841.0\n",
      "11   81.0  [3, 4]     169.0\n",
      "12   85.0  [3, 5]     289.0\n",
      "13   92.0  [3, 6]     576.0\n",
      "14   99.0  [3, 7]     961.0\n",
      "15   98.0  [4, 5]      16.0\n",
      "16  105.0  [4, 6]     121.0\n",
      "17  112.0  [4, 7]     324.0\n",
      "18  109.0  [5, 6]      49.0\n",
      "19  116.0  [5, 7]     196.0\n",
      "20  123.0  [6, 7]      49.0\n",
      "Sampling Mean:  91.7142857143\n",
      "Sampling Variance:  343.619047619\n"
     ]
    }
   ],
   "source": [
    "taxpayers_sample = []\n",
    "sample_means = []\n",
    "sample_variances = []\n",
    "\n",
    "for i in range(7):\n",
    "    for j in range(7):\n",
    "        if (i < j):\n",
    "            taxpayers_sample.append([i+1, j+1])\n",
    "            sample_means.append(taxpayers.Actual_Income[[i, j]].mean())\n",
    "            sample_variances.append(np.var(taxpayers.Actual_Income[[i, j]]))\n",
    "            \n",
    "d = {'Sample':taxpayers_sample, 'Mean':sample_means, 'Variance':sample_variances}\n",
    "samples = pd.DataFrame(d)\n",
    "\n",
    "print samples\n",
    "print 'Sampling Mean: ', samples.Mean.mean()\n",
    "print 'Sampling Variance: ', samples.Variance.mean()\n",
    "            "
   ]
  },
  {
   "cell_type": "markdown",
   "metadata": {},
   "source": [
    "### Exercise 1: Question 2"
   ]
  },
  {
   "cell_type": "code",
   "execution_count": 3,
   "metadata": {},
   "outputs": [
    {
     "name": "stdout",
     "output_type": "stream",
     "text": [
      "Population Mean:  91.7142857143\n",
      "Population Variance:  589.06122449\n"
     ]
    }
   ],
   "source": [
    "print 'Population Mean: ', taxpayers.Actual_Income[0:7].mean()\n",
    "print 'Population Variance: ', np.var(taxpayers.Actual_Income[0:7])"
   ]
  },
  {
   "cell_type": "markdown",
   "metadata": {},
   "source": [
    "The population and sampling distribution means are the same.  The mean sampling distribution variance is considerably smaller than the population variance. "
   ]
  },
  {
   "cell_type": "markdown",
   "metadata": {},
   "source": [
    "### Exercise 1: Question 3"
   ]
  },
  {
   "cell_type": "code",
   "execution_count": 4,
   "metadata": {
    "scrolled": true
   },
   "outputs": [
    {
     "data": {
      "image/png": "[encoded data removed]",
      "text/plain": [
       "<matplotlib.figure.Figure at 0x10de05850>"
      ]
     },
     "metadata": {},
     "output_type": "display_data"
    }
   ],
   "source": [
    "import matplotlib.pyplot as plt\n",
    "% matplotlib inline\n",
    "\n",
    "plt.hist(sample_means, range = (50,200), bins = 30)\n",
    "plt.title('SRS Sampling Mean Distribution (n=2)')\n",
    "plt.xlabel('Actual Income ($k)')\n",
    "plt.show()"
   ]
  },
  {
   "cell_type": "markdown",
   "metadata": {},
   "source": [
    "The sampling distribution somewhat resembles that of a normal distribution."
   ]
  },
  {
   "cell_type": "markdown",
   "metadata": {},
   "source": [
    "### Exercise 1: Question 4"
   ]
  },
  {
   "cell_type": "code",
   "execution_count": 5,
   "metadata": {},
   "outputs": [
    {
     "data": {
      "image/png": "[encoded data removed]",
      "text/plain": [
       "<matplotlib.figure.Figure at 0x1160c6a10>"
      ]
     },
     "metadata": {},
     "output_type": "display_data"
    }
   ],
   "source": [
    "plt.hist(sample_variances, range = (0,4000), bins = 20)\n",
    "plt.title('SRS Sampling Variance Distribution (n=2)')\n",
    "plt.xlabel('Actual Income ($k)')\n",
    "plt.show()"
   ]
  },
  {
   "cell_type": "markdown",
   "metadata": {},
   "source": [
    "It is hard to determine.  The mean is shifted so close to 0 that the distribution is highly skewed, not resembling a normal distribution. "
   ]
  },
  {
   "cell_type": "markdown",
   "metadata": {},
   "source": [
    "### Exercise 2: Question 1"
   ]
  },
  {
   "cell_type": "code",
   "execution_count": 6,
   "metadata": {},
   "outputs": [
    {
     "name": "stdout",
     "output_type": "stream",
     "text": [
      "     Mean  Sample  Variance  Strata_Mean\n",
      "0    66.0  [1, 2]      36.0       82.750\n",
      "1    64.0  [1, 3]      16.0       81.000\n",
      "2    77.0  [1, 4]     289.0       92.375\n",
      "3    81.0  [1, 5]     441.0       95.875\n",
      "4    88.0  [1, 6]     784.0      102.000\n",
      "5    95.0  [1, 7]    1225.0      108.125\n",
      "6    70.0  [2, 3]       4.0       86.250\n",
      "7    83.0  [2, 4]     121.0       97.625\n",
      "8    87.0  [2, 5]     225.0      101.125\n",
      "9    94.0  [2, 6]     484.0      107.250\n",
      "10  101.0  [2, 7]     841.0      113.375\n",
      "11   81.0  [3, 4]     169.0       95.875\n",
      "12   85.0  [3, 5]     289.0       99.375\n",
      "13   92.0  [3, 6]     576.0      105.500\n",
      "14   99.0  [3, 7]     961.0      111.625\n",
      "15   98.0  [4, 5]      16.0      110.750\n",
      "16  105.0  [4, 6]     121.0      116.875\n",
      "17  112.0  [4, 7]     324.0      123.000\n",
      "18  109.0  [5, 6]      49.0      120.375\n",
      "19  116.0  [5, 7]     196.0      126.500\n",
      "20  123.0  [6, 7]      49.0      132.625\n",
      "('Stratified Sampling Mean: ', 105.25)\n"
     ]
    }
   ],
   "source": [
    "samples['Strata_Mean'] = 7*samples.Mean/8 + taxpayers.Actual_Income[7]/8\n",
    "\n",
    "print(samples)\n",
    "print('Stratified Sampling Mean: ', samples.Strata_Mean.mean())"
   ]
  },
  {
   "cell_type": "markdown",
   "metadata": {},
   "source": [
    "### Exercise 2: Question 2"
   ]
  },
  {
   "cell_type": "code",
   "execution_count": 7,
   "metadata": {},
   "outputs": [
    {
     "name": "stdout",
     "output_type": "stream",
     "text": [
      "Population Mean:  105.25\n"
     ]
    }
   ],
   "source": [
    "print 'Population Mean: ',taxpayers.Actual_Income.mean()"
   ]
  },
  {
   "cell_type": "markdown",
   "metadata": {},
   "source": [
    "The population and sampling distribution means are the same."
   ]
  },
  {
   "cell_type": "markdown",
   "metadata": {},
   "source": [
    "### Exercise 2: Question 3"
   ]
  },
  {
   "cell_type": "code",
   "execution_count": 8,
   "metadata": {},
   "outputs": [
    {
     "data": {
      "image/png": "[encoded data removed]",
      "text/plain": [
       "<matplotlib.figure.Figure at 0x116412fd0>"
      ]
     },
     "metadata": {},
     "output_type": "display_data"
    }
   ],
   "source": [
    "plt.hist(samples['Strata_Mean'], range = (50,200), bins = 30)\n",
    "plt.title('Stratified Sampling Mean Distribution (n=3)')\n",
    "plt.xlabel('Actual Income ($k)')\n",
    "plt.show()"
   ]
  },
  {
   "cell_type": "markdown",
   "metadata": {},
   "source": [
    "The histograms look relatively identical, however, the distribution in the stratified sampling design is shifted by roughly 12k. "
   ]
  }
 ],
 "metadata": {
  "kernelspec": {
   "display_name": "Python 3",
   "language": "python",
   "name": "python3"
  },
  "language_info": {
   "codemirror_mode": {
    "name": "ipython",
    "version": 2
   },
   "file_extension": ".py",
   "mimetype": "text/x-python",
   "name": "python",
   "nbconvert_exporter": "python",
   "pygments_lexer": "ipython2",
   "version": "2.7.14"
  }
 },
 "nbformat": 4,
 "nbformat_minor": 2
}
