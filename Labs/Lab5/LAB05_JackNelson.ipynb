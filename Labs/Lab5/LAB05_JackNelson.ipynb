{
 "cells": [
  {
   "cell_type": "markdown",
   "metadata": {},
   "source": [
    "<h2><center> MSDS 6370: Statistical Sampling </center></h2>\n",
    "<h3><center> Lab 5 <br> Jack Nelson </center></h3> "
   ]
  },
  {
   "cell_type": "markdown",
   "metadata": {},
   "source": [
    "### Exercise 2\n",
    "\n",
    "Suppose that you are estimating the proportions of voters who had to wait more than 10 minutes and whose ID was rejected in Dallas County. Suppose you know there are 1.1 million voters in Dallas County. You are considering three sample designs: a srs of voters, a proportionately allocated stratified sample of voters, and a Neyman allocated stratified sample of voters. In the latter two cases, the strata are 3 geographic regions in Dallas County: stratum 1 = North Dallas, stratum 2 = central Dallas, stratum 3 = South Dallas. The sizes of these three strata are 300K, 400K, and 400K, respectively.  \n",
    "\n",
    "Suppose the proportions of voters in the three strata who had to wait more than 10 minutes is 0.20, 0.40, and 0.60, respectively.  (Note that this means that the overall proportion is P = (300K*0.20+400K*0.40 + 400K*0.60)/1100K = 41.8%.)"
   ]
  },
  {
   "cell_type": "markdown",
   "metadata": {},
   "source": [
    "_a) Find the standard error of the estimate of proportion of voters waiting more than 10 minutes for a SRS of 400 voters._"
   ]
  },
  {
   "cell_type": "code",
   "execution_count": 1,
   "metadata": {},
   "outputs": [],
   "source": [
    "import pandas as pd\n",
    "import numpy as np\n",
    "\n",
    "stratum_name = ['north Dallas', 'central Dallas', 'south Dallas']\n",
    "stratum = [1, 2, 3]\n",
    "p = [0.2, 0.6, 0.4]\n",
    "N_h = [300000, 400000, 400000]"
   ]
  },
  {
   "cell_type": "code",
   "execution_count": 2,
   "metadata": {},
   "outputs": [
    {
     "name": "stdout",
     "output_type": "stream",
     "text": [
      "Standard Error: 0.0246615084697\n"
     ]
    }
   ],
   "source": [
    "print 'Standard Error:',np.sqrt((0.418) * (1 - 0.418) / 400 * (1 - (400 / sum(N_h))))"
   ]
  },
  {
   "cell_type": "markdown",
   "metadata": {},
   "source": [
    "_b)\tWhat are the stratum sample sizes for a proportionately allocated stratified sample of size 400?_"
   ]
  },
  {
   "cell_type": "code",
   "execution_count": 3,
   "metadata": {},
   "outputs": [
    {
     "name": "stdout",
     "output_type": "stream",
     "text": [
      "      N_h    p  stratum    stratum_name\n",
      "0  300000  0.2        1    north Dallas\n",
      "1  400000  0.6        2  central Dallas\n",
      "2  400000  0.4        3    south Dallas\n"
     ]
    }
   ],
   "source": [
    "d = {'stratum_name':stratum_name, 'stratum':stratum, 'p':p, 'N_h':N_h}\n",
    "\n",
    "sample_pps = pd.DataFrame(d)\n",
    "print sample_pps"
   ]
  },
  {
   "cell_type": "code",
   "execution_count": 4,
   "metadata": {},
   "outputs": [
    {
     "name": "stdout",
     "output_type": "stream",
     "text": [
      "0    109.090909\n",
      "1    145.454545\n",
      "2    145.454545\n",
      "Name: N_h, dtype: float64\n"
     ]
    }
   ],
   "source": [
    "print sample_pps['N_h'] / sample_pps['N_h'].sum() * 400"
   ]
  },
  {
   "cell_type": "code",
   "execution_count": 5,
   "metadata": {},
   "outputs": [
    {
     "name": "stdout",
     "output_type": "stream",
     "text": [
      "      N_h    p  stratum    stratum_name  sample_size\n",
      "0  300000  0.2        1    north Dallas          109\n",
      "1  400000  0.6        2  central Dallas          145\n",
      "2  400000  0.4        3    south Dallas          146\n"
     ]
    }
   ],
   "source": [
    "sample_pps['sample_size'] = [109, 145, 146] #sample sizes after rounding so n = 400\n",
    "print sample_pps"
   ]
  },
  {
   "cell_type": "markdown",
   "metadata": {},
   "source": [
    "_c)\tWhat is the standard error of the estimate of proportion of voters waiting more than 10 minutes for a proportionately allocated stratified sample of 400 voters._"
   ]
  },
  {
   "cell_type": "code",
   "execution_count": 6,
   "metadata": {},
   "outputs": [
    {
     "name": "stdout",
     "output_type": "stream",
     "text": [
      "      N_h    p  stratum    stratum_name  sample_size  variance    weight\n",
      "0  300000  0.2        1    north Dallas          109  0.001481  0.272727\n",
      "1  400000  0.6        2  central Dallas          145  0.001666  0.363636\n",
      "2  400000  0.4        3    south Dallas          146  0.001655  0.363636\n"
     ]
    }
   ],
   "source": [
    "sample_pps['variance'] = (sample_pps['p'] * (1 - sample_pps['p']) / (sample_pps['sample_size'] - 1) * \n",
    "                       (1 - (sample_pps['sample_size']) / sample_pps['N_h']))\n",
    "sample_pps['weight'] = sample_pps['N_h'] / sample_pps['N_h'].sum()\n",
    "\n",
    "print sample_pps"
   ]
  },
  {
   "cell_type": "code",
   "execution_count": 7,
   "metadata": {},
   "outputs": [
    {
     "name": "stdout",
     "output_type": "stream",
     "text": [
      "Standard Error: 0.023435965386\n"
     ]
    }
   ],
   "source": [
    "print 'Standard Error:',np.sqrt((sample_pps['weight'] ** 2 * sample_pps['variance']).sum())"
   ]
  },
  {
   "cell_type": "markdown",
   "metadata": {},
   "source": [
    "_d)\tWhat are the stratum sample sizes for a Neyman allocated stratified sample of size 400?_"
   ]
  },
  {
   "cell_type": "code",
   "execution_count": 8,
   "metadata": {},
   "outputs": [
    {
     "name": "stdout",
     "output_type": "stream",
     "text": [
      "      N_h    p  stratum    stratum_name\n",
      "0  300000  0.2        1    north Dallas\n",
      "1  400000  0.6        2  central Dallas\n",
      "2  400000  0.4        3    south Dallas\n"
     ]
    }
   ],
   "source": [
    "sample_ney = pd.DataFrame(d)\n",
    "print sample_ney"
   ]
  },
  {
   "cell_type": "code",
   "execution_count": 9,
   "metadata": {},
   "outputs": [
    {
     "name": "stdout",
     "output_type": "stream",
     "text": [
      "0     66.666667\n",
      "1    200.000000\n",
      "2    133.333333\n",
      "Name: p, dtype: float64\n"
     ]
    }
   ],
   "source": [
    "print sample_pps['p'] / sample_pps['p'].sum() * 400"
   ]
  },
  {
   "cell_type": "code",
   "execution_count": 13,
   "metadata": {},
   "outputs": [
    {
     "name": "stdout",
     "output_type": "stream",
     "text": [
      "      N_h    p  stratum    stratum_name  sample_size  variance_sample  \\\n",
      "0  300000  0.2        1    north Dallas           67         0.002424   \n",
      "1  400000  0.6        2  central Dallas          200         0.001818   \n",
      "2  400000  0.4        3    south Dallas          133         0.001205   \n",
      "\n",
      "     weight  \n",
      "0  0.272727  \n",
      "1  0.363636  \n",
      "2  0.363636  \n"
     ]
    }
   ],
   "source": [
    "sample_ney['sample_size'] = [67, 200, 133] #sample sizes after rounding so n = 400\n",
    "print sample_ney"
   ]
  },
  {
   "cell_type": "markdown",
   "metadata": {},
   "source": [
    "_e)\tWhat is the standard error of the estimate of proportion of voters waiting more than 10 minutes for a Neyman allocated stratified sample of 400 voters._"
   ]
  },
  {
   "cell_type": "code",
   "execution_count": 14,
   "metadata": {},
   "outputs": [
    {
     "name": "stdout",
     "output_type": "stream",
     "text": [
      "      N_h    p  stratum    stratum_name  sample_size  variance_sample  \\\n",
      "0  300000  0.2        1    north Dallas           67         0.002424   \n",
      "1  400000  0.6        2  central Dallas          200         0.001205   \n",
      "2  400000  0.4        3    south Dallas          133         0.001818   \n",
      "\n",
      "     weight  \n",
      "0  0.272727  \n",
      "1  0.363636  \n",
      "2  0.363636  \n"
     ]
    }
   ],
   "source": [
    "sample_ney['variance_sample'] = (sample_ney['p'] * (1 - sample_ney['p']) / (sample_ney['sample_size'] - 1) * \n",
    "                       (1 - (sample_ney['sample_size']) / sample_ney['N_h']))\n",
    "sample_ney['weight'] = sample_ney['N_h'] / sample_ney['N_h'].sum()\n",
    "\n",
    "print sample_ney"
   ]
  },
  {
   "cell_type": "code",
   "execution_count": 15,
   "metadata": {},
   "outputs": [
    {
     "name": "stdout",
     "output_type": "stream",
     "text": [
      "Standard Error: 0.0240834258747\n"
     ]
    }
   ],
   "source": [
    "print 'Standard Error:', np.sqrt((sample_ney['weight'] ** 2 * sample_ney['variance_sample']).sum())"
   ]
  }
 ],
 "metadata": {
  "kernelspec": {
   "display_name": "Python 3",
   "language": "python",
   "name": "python3"
  },
  "language_info": {
   "codemirror_mode": {
    "name": "ipython",
    "version": 2
   },
   "file_extension": ".py",
   "mimetype": "text/x-python",
   "name": "python",
   "nbconvert_exporter": "python",
   "pygments_lexer": "ipython2",
   "version": "2.7.14"
  }
 },
 "nbformat": 4,
 "nbformat_minor": 2
}
